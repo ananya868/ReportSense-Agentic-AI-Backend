{
 "cells": [
  {
   "cell_type": "code",
   "execution_count": 1,
   "metadata": {},
   "outputs": [],
   "source": [
    "from workers.fetch_medicine_prices import FetchMedicinePrices"
   ]
  },
  {
   "cell_type": "code",
   "execution_count": 2,
   "metadata": {},
   "outputs": [],
   "source": [
    "fetcher = FetchMedicinePrices(\"levipil 500\")"
   ]
  },
  {
   "cell_type": "code",
   "execution_count": 3,
   "metadata": {},
   "outputs": [],
   "source": [
    "links = fetcher.fetch_links()"
   ]
  },
  {
   "cell_type": "code",
   "execution_count": 4,
   "metadata": {},
   "outputs": [
    {
     "data": {
      "text/plain": [
       "['https://www.practo.com/medicine-info/levipil-500-mg-tablet-16229',\n",
       " 'https://www.netmeds.com/prescriptions/levipil-500-tablet-15s?srsltid=AfmBOopKl7KUT-b28JkEaYV-Fyj5GqK5WBa8XzkefThQ_86m3snJdEUC',\n",
       " 'https://pharmeasy.in/online-medicine-order/levipil-500mg-strip-of-15-tablets-3770774',\n",
       " 'https://www.apollopharmacy.in/medicine/levipil-500mg-tab-15-s?srsltid=AfmBOooJWlAfC-1kXFbjcvj0XSFMY9cMSOODHCfVdqRf8rgqk6yv3jRf',\n",
       " 'https://www.medkart.in/order-medicine/levipil-500mg-tablet-15s']"
      ]
     },
     "execution_count": 4,
     "metadata": {},
     "output_type": "execute_result"
    }
   ],
   "source": [
    "links "
   ]
  },
  {
   "cell_type": "code",
   "execution_count": null,
   "metadata": {},
   "outputs": [],
   "source": []
  }
 ],
 "metadata": {
  "kernelspec": {
   "display_name": "base",
   "language": "python",
   "name": "python3"
  },
  "language_info": {
   "codemirror_mode": {
    "name": "ipython",
    "version": 3
   },
   "file_extension": ".py",
   "mimetype": "text/x-python",
   "name": "python",
   "nbconvert_exporter": "python",
   "pygments_lexer": "ipython3",
   "version": "3.11.5"
  }
 },
 "nbformat": 4,
 "nbformat_minor": 2
}
