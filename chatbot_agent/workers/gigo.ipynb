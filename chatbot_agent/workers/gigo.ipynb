{
 "cells": [
  {
   "cell_type": "code",
   "execution_count": 2,
   "metadata": {},
   "outputs": [],
   "source": [
    "from langchain_text_splitters import MarkdownHeaderTextSplitter"
   ]
  },
  {
   "cell_type": "code",
   "execution_count": 4,
   "metadata": {},
   "outputs": [],
   "source": [
    "with open(\"data.txt\", \"r\") as f:\n",
    "    data = f.read()"
   ]
  },
  {
   "cell_type": "code",
   "execution_count": 7,
   "metadata": {},
   "outputs": [],
   "source": [
    "chunks = data.split(\">>>>\")"
   ]
  },
  {
   "cell_type": "code",
   "execution_count": 8,
   "metadata": {},
   "outputs": [
    {
     "data": {
      "text/plain": [
       "['',\n",
       " '\\nThe Original Report of the patient is : \\n\\n1IAN M KRONISH, MD, MPH \\nAssistant Professor of Medicine \\n \\nCenter for Behavioral Cardiovascular \\nHealth \\n622 West 168th Street, PH9-311 \\nNew York, NY 10032 \\n212.342.1335 \\n212.342.3441 Fax \\nIk2293@columbia.edu \\nwww.cumc.columbia.edu/cbch \\n   February 10, 2016   Re: ABPM for John Doe, MRN: 1234567  Dear Dr. Jane Doe:  You referred your patient John Doe for ambulatory blood pressure monitoring (ABPM). Here is a \\nbrief summary and interpretation of your patient’s results. A more detailed report is attached.   Reason for Referral: Suspected White-Coat Hypertension \\nTotal Number of Blood Pressure Readings: 35 (minimum to be valid >10) % Valid Readings: 85% (optimal >80%)  Quality of Study: Adequate  \\nSummary of Blood Pressure Readings:  Period Patient’s Blood Pressure Normal Blood Pressure \\nDaytime (awake) 142/87 mmHg <135/85 mmHg \\nNighttime (asleep) 125/75 mmHg <120/70 mmHg \\n24-hour 135/85 mmHg <130/80 mmHg \\n  Interpretation:  \\nElevated ambulatory blood pressure consistent with sustained hypertension.  \\n Recommendation: \\nInitiate treatment for hypertension. \\n Please do not hesitate to contact me if you have any questions regarding this report.  Kind regards,    Ian Kronish, MD, MPH, FAHA Director, ActiveBP 212-342-1335 ik2293@columbia.edu  \\n\\n',\n",
       " \"\\nWhats in my report ? Is everything okay in the report ? Whats wrong in the report ? What are the Abnormalities \\nThe Summarized Report of the patient is: \\n1. Findings:\\n- The patient, John Doe, underwent ambulatory blood pressure monitoring (ABPM) for suspected White-Coat Hypertension.\\n- A total of 35 blood pressure readings were taken, with 85% of them being valid.    \\n- The summary of blood pressure readings showed elevated values during the daytime, nighttime, and over a 24-hour period.\\n\\n2. Abnormal values/Health concerns:\\n- Daytime blood pressure was 142/87 mmHg, which is higher than the normal range of <135/85 mmHg.\\n- Nighttime blood pressure was 125/75 mmHg, exceeding the normal range of <120/70 mmHg.\\n- The 24-hour blood pressure was 135/85 mmHg, higher than the normal range of <130/80 mmHg.\\n- The interpretation suggests elevated ambulatory blood pressure consistent with sustained hypertension, indicating the need for treatment.\\n\\n3. Explanation of complex terms:\\n- Ambulatory blood pressure monitoring (ABPM): A test that measures blood pressure at regular intervals over a 24-hour period, providing a more accurate assessment of blood pressure variations throughout the day and night.\\n- White-Coat Hypertension: A condition where a person's blood pressure is higher in a medical setting (doctor's office) than in other settings, leading to a false diagnosis of hypertension.\\n- Sustained hypertension: Persistent high blood pressure readings over time, indicating a need for ongoing treatment to manage blood pressure levels.\\n\\n\\n\",\n",
       " \"\\nWhats in the chest x ray result ? is the medical image okay ? medical image report ? What is found in Chest X ray ?\\nChest X ray results: \\n{'Consolidation': 97.86, 'Edema': 100.0, 'Infiltration': 100.0, 'Mass': 99.74, 'Pneumonia': 97.34} \\n\\n\\n\",\n",
       " ' \\nAll information about Ibuprofen \\n{\\n    \"medication_name\": \"Ibuprofen\",\\n    \"generic_name\": \"ibuprofen\",\\n    \"ingredients\": [\\n        \"ibuprofen\"\\n    ],\\n    \"brand_names\": [\\n        \"Advil\",\\n        \"Genpril\",\\n        \"IBU\",\\n        \"Midol IB\",\\n        \"Motrin IB\",\\n        \"Proprinal\",\\n        \"Smart Sense Children\\'s Ibuprofen\"\\n    ],\\n    \"medicine_use\": \"Ibuprofen is used to reduce fever and treat pain or inflammation caused by many conditions such as headache, toothache, back pain, arthritis, menstrual cramps, or minor injury.\",\\n    \"common_side_effects\": [\\n        \"nausea\",\\n        \"vomiting\",\\n        \"gas\",\\n        \"bleeding\",\\n        \"dizziness\",\\n        \"headache\"\\n    ],\\n    \"severe_side_effects\": [\\n        \"stomach or intestinal bleeding\",\\n        \"heart attack\",\\n        \"stroke\",\\n        \"liver problems\",\\n        \"kidney problems\",\\n        \"allergic reaction\",\\n        \"severe skin reaction\",\\n        \"vision changes\",\\n        \"anemia\"\\n    ],\\n    \"immediate_attention_side_effects\": [\\n        \"signs of an allergic reaction to ibuprofen\",\\n        \"signs of a heart attack or stroke\",\\n        \"signs of stomach bleeding\",\\n        \"liver problems\",\\n        \"kidney problems\"\\n    ],\\n    \"how_to_use\": \"Use ibuprofen exactly as directed on the label, or as prescribed by your doctor. Use the lowest dose that is effective in treating your condition. The maximum amount of ibuprofen for adults is 800 milligrams per dose or 3200 mg per day (4 maximum doses).\",\\n    \"storage_instructions\": \"Store at room temperature away from moisture and heat. Do not allow the liquid medicine to freeze.\",\\n    \"mechanism_of_action\": \"It works by reducing hormones that cause inflammation and pain in the body.\",\\n    \"warnings_precautions\": [\\n        \"Can increase risk of fatal heart attack or stroke.\",\\n        \"Can cause stomach or intestinal bleeding, which can be fatal.\",\\n        \"Do not use before or after heart bypass surgery.\"\\n    ],\\n    \"alternative_medicines\": [\\n        \"Naproxen\"\\n    ],\\n    \"natural_alternatives\": [\\n        \"missing\"\\n    ],\\n    \"regulatory_approval\": \"Rx and/or OTC\",\\n    \"drug_interactions\": \"Ask your doctor before using ibuprofen if you take an antidepressant. Potential interactions with other medications including blood thinners and certain antidepressants.\",\\n    \"forms_variants\": [\\n        \"oral capsule (200 mg)\",\\n        \"oral suspension (100 mg/5 mL; 50 mg/1.25 mL)\",\\n        \"oral tablet (100 mg; 200 mg; 400 mg; 600 mg; 800 mg)\",\\n        \"oral tablet, chewable (100 mg; 50 mg)\"\\n    ],\\n    \"prescription_required\": null,\\n    \"contraindications\": [\\n        \"allergic to ibuprofen\",\\n        \"history of asthma attack after taking aspirin or NSAID\",\\n        \"stomach ulcers or bleeding\",\\n        \"liver disease\",\\n        \"kidney disease\",\\n        \"if taking aspirin to prevent heart attack or stroke\"\\n    ],\\n    \"drug_class\": \"Nonsteroidal anti-inflammatory drugs\",\\n    \"pregnancy_lactation\": \"Ask a doctor before using this medicine if you are pregnant or breastfeeding. Taking an NSAID during the last 20 weeks of pregnancy can cause serious heart or kidney problems in the unborn baby and possible complications with your pregnancy.\",\\n    \"dosage_forms\": [\\n        \"oral capsule\",\\n        \"oral suspension\",\\n        \"oral tablet\",\\n        \"chewable tablet\"\\n    ],\\n    \"special_populations_children\": \"Do not give ibuprofen to a child younger than 6 months old without the advice of a doctor.\",\\n    \"special_populations_elderly\": \"missing\",\\n    \"special_populations_renal_impairment\": \"missing\",\\n    \"special_populations_hepatic_impairment\": \"missing\",\\n    \"overdose_information\": \"Seek emergency medical attention or call the Poison Help line at 1-800-222-1222. Overdose symptoms may include nausea, vomiting, stomach pain, drowsiness, black or bloody stools, coughing up blood, shallow breathing, fainting or coma.\",\\n    \"reviews_rating\": \"7.4 / 10\"\\n}\\n\\n',\n",
       " '\\nAll information about paracetamol | \\n{\\n    \"medication_name\": \"Paracetamol\",\\n    \"generic_name\": \"paracetamol\",\\n    \"ingredients\": [\\n        \"paracetamol\"\\n    ],\\n    \"brand_names\": [\\n        \"Panadol\",\\n        \"Calpol\",\\n        \"Tylenol\",\\n        \"Alvedon\"\\n    ],\\n    \"medicine_use\": \"used to temporarily relieve mild-to-moderate pain and fever\",\\n    \"common_side_effects\": [\\n        \"Redness or soreness in or around the rectum\"\\n    ],\\n    \"severe_side_effects\": [\\n        \"Allergic reactions, skin rashes, itching or hives, swelling of the throat, tongue or face, shortness of breath or wheezing\",\\n        \"Skin rash or peeling, or mouth ulcers\",\\n        \"Breathing problems\",\\n        \"Unexplained bruising or bleeding, becoming unusually tired, getting more infections than usual\",\\n        \"Liver problems, nausea, sudden weight loss, loss of appetite, yellowing of the eyes and skin\"\\n    ],\\n    \"immediate_attention_side_effects\": [\\n        \"paleness\",\\n        \"nausea\",\\n        \"sweating\",\\n        \"vomiting\",\\n        \"loss of appetite\",\\n        \"abdominal pain\"\\n    ],\\n    \"how_to_use\": \"Always use exactly as your doctor or pharmacist tells you to. Do not take more than the recommended dose. Check the instructions for the paracetamol product you have. Paracetamol may be taken every 4 to 6 hours. Leave at least 4 hours between doses. Do not take more than four doses in 24 hours. Do not take for more than 3 days, unless your doctor tells you to. Contact your healthcare professional if your symptoms get worse or do not improve.\",\\n    \"storage_instructions\": \"Keep out of sight and reach of children; do not use the medicine after the expiry date; store below 77\\\\u00b0F (25\\\\u00b0C) unless instructed otherwise; store paracetamol suppositories in a cool, dry place below 77\\\\u00b0F (25\\\\u00b0C) and out of direct sunlight; store paracetamol effervescent tablets below 86\\\\u00b0F (30\\\\u00b0C); store paracetamol solution for infusion below 86\\\\u00b0F (30\\\\u00b0C) and do not refrigerate or freeze.\",\\n    \"mechanism_of_action\": \"thought to work by blocking chemical messengers in the brain that let us know when we\\'re in pain and by affecting the chemical messengers that regulate our body temperature; inhibits the production of prostaglandins\",\\n    \"warnings_precautions\": [\\n        \"Do not take paracetamol if you are allergic to it or any of the other ingredients.\",\\n        \"May be more sensitive to side effects if consuming large amounts of alcohol.\",\\n        \"Contact your doctor immediately if symptoms of metabolic acidosis occur.\"\\n    ],\\n    \"alternative_medicines\": [\\n        \"Tramadol\",\\n        \"Naproxen\",\\n        \"Hydroxyzine\",\\n        \"Cyclobenzaprine\",\\n        \"Meloxicam\",\\n        \"Oxycodone\",\\n        \"Diclofenac\"\\n    ],\\n    \"natural_alternatives\": [\\n        \"missing\"\\n    ],\\n    \"regulatory_approval\": \"available over-the-counter (OTC) and as a prescription medication\",\\n    \"drug_interactions\": \"Blood thinning medications such as warfarin; medications for nausea such as metoclopramide; cholestyramine for high cholesterol; lamotrigine for epilepsy; isoniazide for tuberculosis; aspirin; barbiturates and tricyclic antidepressants; probenecid; chloramphenicol; zidovudine; flucloxacillin\",\\n    \"forms_variants\": [\\n        \"effervescent tablet\",\\n        \"intravenous (infusion) injection\",\\n        \"orally disintegrating tablet\",\\n        \"oral capsule\",\\n        \"oral powder\",\\n        \"oral suspension\",\\n        \"oral tablet\",\\n        \"suppository\"\\n    ],\\n    \"prescription_required\": false,\\n    \"contraindications\": [\\n        \"allergy to paracetamol or any other ingredient\",\\n        \"severe infection\",\\n        \"asthma sensitive to aspirin\"\\n    ],\\n    \"drug_class\": \"Miscellaneous analgesics\",\\n    \"pregnancy_lactation\": \"can be used during pregnancy; can be taken if breastfeeding\",\\n    \"dosage_forms\": [\\n        \"tablets\",\\n        \"capsules\",\\n        \"oral suspension\",\\n        \"suppositories\",\\n        \"effervescent tablets\",\\n        \"solution for infusion\",\\n        \"orally disintegrating tablets\",\\n        \"powder\"\\n    ],\\n    \"special_populations_children\": \"check with your doctor or pharmacist about the correct dose based on child\\'s age and weight.\",\\n    \"special_populations_elderly\": \"missing\",\\n    \"special_populations_renal_impairment\": \"missing\",\\n    \"special_populations_hepatic_impairment\": \"use caution in patients with liver problems, may need to avoid or limit use\",\\n    \"overdose_information\": \"get medical help immediately; symptoms may include paleness, nausea, sweating, vomiting, loss of appetite, and abdominal pain; quick medical attention is critical even if they seem well.\",\\n    \"reviews_rating\": \"7.0 / 10\"\\n}\\n\\n',\n",
       " \"\\nPrices of medicines | Cost of medicines | How much these comes at ? Where can i get these ? Links on the internet ? Where to buy ? \\n\\n\\n[{'name': 'BRUFEN 400MG TABLET', 'price': '16.99', 'quantity': '15S', 'url': 'https://www.practo.com/medicine-info/ibuprofen-395-api'}, {'name': 'ibuprofen', 'price': 'NA', 'quantity': 'NA', 'url': 'https://www.netmeds.com/prescriptions/337279?srsltid=AfmBOorjMq-eX4UVqchmL_Md8V6dSJYVITX11avgnk6gXsWiuMwTc4zE'}, \\n {'name': 'Ibuprofen', 'price': '4.00', 'quantity': '10 Tablets', 'url': 'https://pharmeasy.in/online-medicine-order/ibuprofen-alk-250mg-strip-of-250-tablets-195197'}, {'name': 'Ibuprofen', 'price': '66.88', 'quantity': '250 Tablets', 'url': 'https://www.apollopharmacy.in/medicine/ibuprofen-400-mg-tablet-10-s?srsltid=AfmBOoqLbAtMxW7PUsK-rUcomvPTyf4NR-mK5YwVCU1zIY4IeCDBh7-8'},\\n  {'name': 'Ibuprofen 400 mg Tablet', 'price': 'NA', 'quantity': '10s', 'url': 'https://www.medkart.in/order-medicine/brufen-400mg-tablet-15s'}]\\n\\n\\n[{'name': 'PARACETAMOL 500MG TABLET', 'price': '17.94', 'quantity': '20S', 'url': 'https://www.practo.com/medicine-info/paracetamol-219-api'}, {'name': 'paracetamol', 'price': 'NA', 'quantity': 'NA', 'url': 'https://www.netmeds.com/prescriptions/paracetamol-tablet-10-s'}, {'name': 'paracetamol', 'price': 'NA', \\n'quantity': 'NA', 'url': 'https://pharmeasy.in/online-medicine-order/paracetamol-cipla-500-mg-tablet-10-198467'}, {'name': 'PARACETAMOL Tablet', 'price': '10.08', 'quantity': '10 Tablets', 'url': 'https://www.apollopharmacy.in/salt/Paracetamol?srsltid=AfmBOopA2iEFVNA2JqQ8h1keENoif1l8Ok6H9YPoo3omyhDA0SyPkgvU'}, \\n{'name': 'Paracetamol 500mg Strip Of 10 Tablets Cipla', 'price': '7.62', 'quantity': '10 Tablets', 'url': 'https://www.medkart.in/order-medicine/paracetamol-500mg-tablet-20s'}]\"]"
      ]
     },
     "execution_count": 8,
     "metadata": {},
     "output_type": "execute_result"
    }
   ],
   "source": [
    "chunks"
   ]
  },
  {
   "cell_type": "code",
   "execution_count": 9,
   "metadata": {},
   "outputs": [],
   "source": [
    "# if any element in this list is empty string, remove it \n",
    "chunks = [chunk for chunk in chunks if chunk != '']"
   ]
  },
  {
   "cell_type": "code",
   "execution_count": 10,
   "metadata": {},
   "outputs": [
    {
     "data": {
      "text/plain": [
       "['\\nThe Original Report of the patient is : \\n\\n1IAN M KRONISH, MD, MPH \\nAssistant Professor of Medicine \\n \\nCenter for Behavioral Cardiovascular \\nHealth \\n622 West 168th Street, PH9-311 \\nNew York, NY 10032 \\n212.342.1335 \\n212.342.3441 Fax \\nIk2293@columbia.edu \\nwww.cumc.columbia.edu/cbch \\n   February 10, 2016   Re: ABPM for John Doe, MRN: 1234567  Dear Dr. Jane Doe:  You referred your patient John Doe for ambulatory blood pressure monitoring (ABPM). Here is a \\nbrief summary and interpretation of your patient’s results. A more detailed report is attached.   Reason for Referral: Suspected White-Coat Hypertension \\nTotal Number of Blood Pressure Readings: 35 (minimum to be valid >10) % Valid Readings: 85% (optimal >80%)  Quality of Study: Adequate  \\nSummary of Blood Pressure Readings:  Period Patient’s Blood Pressure Normal Blood Pressure \\nDaytime (awake) 142/87 mmHg <135/85 mmHg \\nNighttime (asleep) 125/75 mmHg <120/70 mmHg \\n24-hour 135/85 mmHg <130/80 mmHg \\n  Interpretation:  \\nElevated ambulatory blood pressure consistent with sustained hypertension.  \\n Recommendation: \\nInitiate treatment for hypertension. \\n Please do not hesitate to contact me if you have any questions regarding this report.  Kind regards,    Ian Kronish, MD, MPH, FAHA Director, ActiveBP 212-342-1335 ik2293@columbia.edu  \\n\\n',\n",
       " \"\\nWhats in my report ? Is everything okay in the report ? Whats wrong in the report ? What are the Abnormalities \\nThe Summarized Report of the patient is: \\n1. Findings:\\n- The patient, John Doe, underwent ambulatory blood pressure monitoring (ABPM) for suspected White-Coat Hypertension.\\n- A total of 35 blood pressure readings were taken, with 85% of them being valid.    \\n- The summary of blood pressure readings showed elevated values during the daytime, nighttime, and over a 24-hour period.\\n\\n2. Abnormal values/Health concerns:\\n- Daytime blood pressure was 142/87 mmHg, which is higher than the normal range of <135/85 mmHg.\\n- Nighttime blood pressure was 125/75 mmHg, exceeding the normal range of <120/70 mmHg.\\n- The 24-hour blood pressure was 135/85 mmHg, higher than the normal range of <130/80 mmHg.\\n- The interpretation suggests elevated ambulatory blood pressure consistent with sustained hypertension, indicating the need for treatment.\\n\\n3. Explanation of complex terms:\\n- Ambulatory blood pressure monitoring (ABPM): A test that measures blood pressure at regular intervals over a 24-hour period, providing a more accurate assessment of blood pressure variations throughout the day and night.\\n- White-Coat Hypertension: A condition where a person's blood pressure is higher in a medical setting (doctor's office) than in other settings, leading to a false diagnosis of hypertension.\\n- Sustained hypertension: Persistent high blood pressure readings over time, indicating a need for ongoing treatment to manage blood pressure levels.\\n\\n\\n\",\n",
       " \"\\nWhats in the chest x ray result ? is the medical image okay ? medical image report ? What is found in Chest X ray ?\\nChest X ray results: \\n{'Consolidation': 97.86, 'Edema': 100.0, 'Infiltration': 100.0, 'Mass': 99.74, 'Pneumonia': 97.34} \\n\\n\\n\",\n",
       " ' \\nAll information about Ibuprofen \\n{\\n    \"medication_name\": \"Ibuprofen\",\\n    \"generic_name\": \"ibuprofen\",\\n    \"ingredients\": [\\n        \"ibuprofen\"\\n    ],\\n    \"brand_names\": [\\n        \"Advil\",\\n        \"Genpril\",\\n        \"IBU\",\\n        \"Midol IB\",\\n        \"Motrin IB\",\\n        \"Proprinal\",\\n        \"Smart Sense Children\\'s Ibuprofen\"\\n    ],\\n    \"medicine_use\": \"Ibuprofen is used to reduce fever and treat pain or inflammation caused by many conditions such as headache, toothache, back pain, arthritis, menstrual cramps, or minor injury.\",\\n    \"common_side_effects\": [\\n        \"nausea\",\\n        \"vomiting\",\\n        \"gas\",\\n        \"bleeding\",\\n        \"dizziness\",\\n        \"headache\"\\n    ],\\n    \"severe_side_effects\": [\\n        \"stomach or intestinal bleeding\",\\n        \"heart attack\",\\n        \"stroke\",\\n        \"liver problems\",\\n        \"kidney problems\",\\n        \"allergic reaction\",\\n        \"severe skin reaction\",\\n        \"vision changes\",\\n        \"anemia\"\\n    ],\\n    \"immediate_attention_side_effects\": [\\n        \"signs of an allergic reaction to ibuprofen\",\\n        \"signs of a heart attack or stroke\",\\n        \"signs of stomach bleeding\",\\n        \"liver problems\",\\n        \"kidney problems\"\\n    ],\\n    \"how_to_use\": \"Use ibuprofen exactly as directed on the label, or as prescribed by your doctor. Use the lowest dose that is effective in treating your condition. The maximum amount of ibuprofen for adults is 800 milligrams per dose or 3200 mg per day (4 maximum doses).\",\\n    \"storage_instructions\": \"Store at room temperature away from moisture and heat. Do not allow the liquid medicine to freeze.\",\\n    \"mechanism_of_action\": \"It works by reducing hormones that cause inflammation and pain in the body.\",\\n    \"warnings_precautions\": [\\n        \"Can increase risk of fatal heart attack or stroke.\",\\n        \"Can cause stomach or intestinal bleeding, which can be fatal.\",\\n        \"Do not use before or after heart bypass surgery.\"\\n    ],\\n    \"alternative_medicines\": [\\n        \"Naproxen\"\\n    ],\\n    \"natural_alternatives\": [\\n        \"missing\"\\n    ],\\n    \"regulatory_approval\": \"Rx and/or OTC\",\\n    \"drug_interactions\": \"Ask your doctor before using ibuprofen if you take an antidepressant. Potential interactions with other medications including blood thinners and certain antidepressants.\",\\n    \"forms_variants\": [\\n        \"oral capsule (200 mg)\",\\n        \"oral suspension (100 mg/5 mL; 50 mg/1.25 mL)\",\\n        \"oral tablet (100 mg; 200 mg; 400 mg; 600 mg; 800 mg)\",\\n        \"oral tablet, chewable (100 mg; 50 mg)\"\\n    ],\\n    \"prescription_required\": null,\\n    \"contraindications\": [\\n        \"allergic to ibuprofen\",\\n        \"history of asthma attack after taking aspirin or NSAID\",\\n        \"stomach ulcers or bleeding\",\\n        \"liver disease\",\\n        \"kidney disease\",\\n        \"if taking aspirin to prevent heart attack or stroke\"\\n    ],\\n    \"drug_class\": \"Nonsteroidal anti-inflammatory drugs\",\\n    \"pregnancy_lactation\": \"Ask a doctor before using this medicine if you are pregnant or breastfeeding. Taking an NSAID during the last 20 weeks of pregnancy can cause serious heart or kidney problems in the unborn baby and possible complications with your pregnancy.\",\\n    \"dosage_forms\": [\\n        \"oral capsule\",\\n        \"oral suspension\",\\n        \"oral tablet\",\\n        \"chewable tablet\"\\n    ],\\n    \"special_populations_children\": \"Do not give ibuprofen to a child younger than 6 months old without the advice of a doctor.\",\\n    \"special_populations_elderly\": \"missing\",\\n    \"special_populations_renal_impairment\": \"missing\",\\n    \"special_populations_hepatic_impairment\": \"missing\",\\n    \"overdose_information\": \"Seek emergency medical attention or call the Poison Help line at 1-800-222-1222. Overdose symptoms may include nausea, vomiting, stomach pain, drowsiness, black or bloody stools, coughing up blood, shallow breathing, fainting or coma.\",\\n    \"reviews_rating\": \"7.4 / 10\"\\n}\\n\\n',\n",
       " '\\nAll information about paracetamol | \\n{\\n    \"medication_name\": \"Paracetamol\",\\n    \"generic_name\": \"paracetamol\",\\n    \"ingredients\": [\\n        \"paracetamol\"\\n    ],\\n    \"brand_names\": [\\n        \"Panadol\",\\n        \"Calpol\",\\n        \"Tylenol\",\\n        \"Alvedon\"\\n    ],\\n    \"medicine_use\": \"used to temporarily relieve mild-to-moderate pain and fever\",\\n    \"common_side_effects\": [\\n        \"Redness or soreness in or around the rectum\"\\n    ],\\n    \"severe_side_effects\": [\\n        \"Allergic reactions, skin rashes, itching or hives, swelling of the throat, tongue or face, shortness of breath or wheezing\",\\n        \"Skin rash or peeling, or mouth ulcers\",\\n        \"Breathing problems\",\\n        \"Unexplained bruising or bleeding, becoming unusually tired, getting more infections than usual\",\\n        \"Liver problems, nausea, sudden weight loss, loss of appetite, yellowing of the eyes and skin\"\\n    ],\\n    \"immediate_attention_side_effects\": [\\n        \"paleness\",\\n        \"nausea\",\\n        \"sweating\",\\n        \"vomiting\",\\n        \"loss of appetite\",\\n        \"abdominal pain\"\\n    ],\\n    \"how_to_use\": \"Always use exactly as your doctor or pharmacist tells you to. Do not take more than the recommended dose. Check the instructions for the paracetamol product you have. Paracetamol may be taken every 4 to 6 hours. Leave at least 4 hours between doses. Do not take more than four doses in 24 hours. Do not take for more than 3 days, unless your doctor tells you to. Contact your healthcare professional if your symptoms get worse or do not improve.\",\\n    \"storage_instructions\": \"Keep out of sight and reach of children; do not use the medicine after the expiry date; store below 77\\\\u00b0F (25\\\\u00b0C) unless instructed otherwise; store paracetamol suppositories in a cool, dry place below 77\\\\u00b0F (25\\\\u00b0C) and out of direct sunlight; store paracetamol effervescent tablets below 86\\\\u00b0F (30\\\\u00b0C); store paracetamol solution for infusion below 86\\\\u00b0F (30\\\\u00b0C) and do not refrigerate or freeze.\",\\n    \"mechanism_of_action\": \"thought to work by blocking chemical messengers in the brain that let us know when we\\'re in pain and by affecting the chemical messengers that regulate our body temperature; inhibits the production of prostaglandins\",\\n    \"warnings_precautions\": [\\n        \"Do not take paracetamol if you are allergic to it or any of the other ingredients.\",\\n        \"May be more sensitive to side effects if consuming large amounts of alcohol.\",\\n        \"Contact your doctor immediately if symptoms of metabolic acidosis occur.\"\\n    ],\\n    \"alternative_medicines\": [\\n        \"Tramadol\",\\n        \"Naproxen\",\\n        \"Hydroxyzine\",\\n        \"Cyclobenzaprine\",\\n        \"Meloxicam\",\\n        \"Oxycodone\",\\n        \"Diclofenac\"\\n    ],\\n    \"natural_alternatives\": [\\n        \"missing\"\\n    ],\\n    \"regulatory_approval\": \"available over-the-counter (OTC) and as a prescription medication\",\\n    \"drug_interactions\": \"Blood thinning medications such as warfarin; medications for nausea such as metoclopramide; cholestyramine for high cholesterol; lamotrigine for epilepsy; isoniazide for tuberculosis; aspirin; barbiturates and tricyclic antidepressants; probenecid; chloramphenicol; zidovudine; flucloxacillin\",\\n    \"forms_variants\": [\\n        \"effervescent tablet\",\\n        \"intravenous (infusion) injection\",\\n        \"orally disintegrating tablet\",\\n        \"oral capsule\",\\n        \"oral powder\",\\n        \"oral suspension\",\\n        \"oral tablet\",\\n        \"suppository\"\\n    ],\\n    \"prescription_required\": false,\\n    \"contraindications\": [\\n        \"allergy to paracetamol or any other ingredient\",\\n        \"severe infection\",\\n        \"asthma sensitive to aspirin\"\\n    ],\\n    \"drug_class\": \"Miscellaneous analgesics\",\\n    \"pregnancy_lactation\": \"can be used during pregnancy; can be taken if breastfeeding\",\\n    \"dosage_forms\": [\\n        \"tablets\",\\n        \"capsules\",\\n        \"oral suspension\",\\n        \"suppositories\",\\n        \"effervescent tablets\",\\n        \"solution for infusion\",\\n        \"orally disintegrating tablets\",\\n        \"powder\"\\n    ],\\n    \"special_populations_children\": \"check with your doctor or pharmacist about the correct dose based on child\\'s age and weight.\",\\n    \"special_populations_elderly\": \"missing\",\\n    \"special_populations_renal_impairment\": \"missing\",\\n    \"special_populations_hepatic_impairment\": \"use caution in patients with liver problems, may need to avoid or limit use\",\\n    \"overdose_information\": \"get medical help immediately; symptoms may include paleness, nausea, sweating, vomiting, loss of appetite, and abdominal pain; quick medical attention is critical even if they seem well.\",\\n    \"reviews_rating\": \"7.0 / 10\"\\n}\\n\\n',\n",
       " \"\\nPrices of medicines | Cost of medicines | How much these comes at ? Where can i get these ? Links on the internet ? Where to buy ? \\n\\n\\n[{'name': 'BRUFEN 400MG TABLET', 'price': '16.99', 'quantity': '15S', 'url': 'https://www.practo.com/medicine-info/ibuprofen-395-api'}, {'name': 'ibuprofen', 'price': 'NA', 'quantity': 'NA', 'url': 'https://www.netmeds.com/prescriptions/337279?srsltid=AfmBOorjMq-eX4UVqchmL_Md8V6dSJYVITX11avgnk6gXsWiuMwTc4zE'}, \\n {'name': 'Ibuprofen', 'price': '4.00', 'quantity': '10 Tablets', 'url': 'https://pharmeasy.in/online-medicine-order/ibuprofen-alk-250mg-strip-of-250-tablets-195197'}, {'name': 'Ibuprofen', 'price': '66.88', 'quantity': '250 Tablets', 'url': 'https://www.apollopharmacy.in/medicine/ibuprofen-400-mg-tablet-10-s?srsltid=AfmBOoqLbAtMxW7PUsK-rUcomvPTyf4NR-mK5YwVCU1zIY4IeCDBh7-8'},\\n  {'name': 'Ibuprofen 400 mg Tablet', 'price': 'NA', 'quantity': '10s', 'url': 'https://www.medkart.in/order-medicine/brufen-400mg-tablet-15s'}]\\n\\n\\n[{'name': 'PARACETAMOL 500MG TABLET', 'price': '17.94', 'quantity': '20S', 'url': 'https://www.practo.com/medicine-info/paracetamol-219-api'}, {'name': 'paracetamol', 'price': 'NA', 'quantity': 'NA', 'url': 'https://www.netmeds.com/prescriptions/paracetamol-tablet-10-s'}, {'name': 'paracetamol', 'price': 'NA', \\n'quantity': 'NA', 'url': 'https://pharmeasy.in/online-medicine-order/paracetamol-cipla-500-mg-tablet-10-198467'}, {'name': 'PARACETAMOL Tablet', 'price': '10.08', 'quantity': '10 Tablets', 'url': 'https://www.apollopharmacy.in/salt/Paracetamol?srsltid=AfmBOopA2iEFVNA2JqQ8h1keENoif1l8Ok6H9YPoo3omyhDA0SyPkgvU'}, \\n{'name': 'Paracetamol 500mg Strip Of 10 Tablets Cipla', 'price': '7.62', 'quantity': '10 Tablets', 'url': 'https://www.medkart.in/order-medicine/paracetamol-500mg-tablet-20s'}]\"]"
      ]
     },
     "execution_count": 10,
     "metadata": {},
     "output_type": "execute_result"
    }
   ],
   "source": [
    "chunks"
   ]
  },
  {
   "cell_type": "code",
   "execution_count": 11,
   "metadata": {},
   "outputs": [
    {
     "data": {
      "text/plain": [
       "[176, 237, 40, 444, 525, 127]"
      ]
     },
     "execution_count": 11,
     "metadata": {},
     "output_type": "execute_result"
    }
   ],
   "source": [
    "# get word length of each chunk\n",
    "chunks_word_length = [len(chunk.split()) for chunk in chunks]\n",
    "chunks_word_length"
   ]
  },
  {
   "cell_type": "code",
   "execution_count": 12,
   "metadata": {},
   "outputs": [],
   "source": [
    "from langchain_openai import OpenAIEmbeddings"
   ]
  },
  {
   "cell_type": "code",
   "execution_count": 13,
   "metadata": {},
   "outputs": [],
   "source": [
    "em_model = OpenAIEmbeddings(model = \"text-embedding-3-small\")"
   ]
  },
  {
   "cell_type": "code",
   "execution_count": 14,
   "metadata": {},
   "outputs": [],
   "source": [
    "embeddings = em_model.embed_documents(chunks)"
   ]
  },
  {
   "cell_type": "code",
   "execution_count": 17,
   "metadata": {},
   "outputs": [
    {
     "data": {
      "text/plain": [
       "(6, 1536)"
      ]
     },
     "execution_count": 17,
     "metadata": {},
     "output_type": "execute_result"
    }
   ],
   "source": [
    "len(embeddings), len(embeddings[0])"
   ]
  },
  {
   "cell_type": "code",
   "execution_count": null,
   "metadata": {},
   "outputs": [],
   "source": [
    "from langchain_core.vectorstores import InMemoryVectorStore\n",
    "\n",
    "vector_store = InMemoryVectorStore(em_model)"
   ]
  },
  {
   "cell_type": "code",
   "execution_count": 24,
   "metadata": {},
   "outputs": [],
   "source": [
    "from langchain_core.documents import Document   "
   ]
  },
  {
   "cell_type": "code",
   "execution_count": 25,
   "metadata": {},
   "outputs": [],
   "source": [
    "docs = [Document(page_content=chunk) for chunk in chunks]"
   ]
  },
  {
   "cell_type": "code",
   "execution_count": 26,
   "metadata": {},
   "outputs": [
    {
     "data": {
      "text/plain": [
       "[Document(metadata={}, page_content='\\nThe Original Report of the patient is : \\n\\n1IAN M KRONISH, MD, MPH \\nAssistant Professor of Medicine \\n \\nCenter for Behavioral Cardiovascular \\nHealth \\n622 West 168th Street, PH9-311 \\nNew York, NY 10032 \\n212.342.1335 \\n212.342.3441 Fax \\nIk2293@columbia.edu \\nwww.cumc.columbia.edu/cbch \\n   February 10, 2016   Re: ABPM for John Doe, MRN: 1234567  Dear Dr. Jane Doe:  You referred your patient John Doe for ambulatory blood pressure monitoring (ABPM). Here is a \\nbrief summary and interpretation of your patient’s results. A more detailed report is attached.   Reason for Referral: Suspected White-Coat Hypertension \\nTotal Number of Blood Pressure Readings: 35 (minimum to be valid >10) % Valid Readings: 85% (optimal >80%)  Quality of Study: Adequate  \\nSummary of Blood Pressure Readings:  Period Patient’s Blood Pressure Normal Blood Pressure \\nDaytime (awake) 142/87 mmHg <135/85 mmHg \\nNighttime (asleep) 125/75 mmHg <120/70 mmHg \\n24-hour 135/85 mmHg <130/80 mmHg \\n  Interpretation:  \\nElevated ambulatory blood pressure consistent with sustained hypertension.  \\n Recommendation: \\nInitiate treatment for hypertension. \\n Please do not hesitate to contact me if you have any questions regarding this report.  Kind regards,    Ian Kronish, MD, MPH, FAHA Director, ActiveBP 212-342-1335 ik2293@columbia.edu  \\n\\n'),\n",
       " Document(metadata={}, page_content=\"\\nWhats in my report ? Is everything okay in the report ? Whats wrong in the report ? What are the Abnormalities \\nThe Summarized Report of the patient is: \\n1. Findings:\\n- The patient, John Doe, underwent ambulatory blood pressure monitoring (ABPM) for suspected White-Coat Hypertension.\\n- A total of 35 blood pressure readings were taken, with 85% of them being valid.    \\n- The summary of blood pressure readings showed elevated values during the daytime, nighttime, and over a 24-hour period.\\n\\n2. Abnormal values/Health concerns:\\n- Daytime blood pressure was 142/87 mmHg, which is higher than the normal range of <135/85 mmHg.\\n- Nighttime blood pressure was 125/75 mmHg, exceeding the normal range of <120/70 mmHg.\\n- The 24-hour blood pressure was 135/85 mmHg, higher than the normal range of <130/80 mmHg.\\n- The interpretation suggests elevated ambulatory blood pressure consistent with sustained hypertension, indicating the need for treatment.\\n\\n3. Explanation of complex terms:\\n- Ambulatory blood pressure monitoring (ABPM): A test that measures blood pressure at regular intervals over a 24-hour period, providing a more accurate assessment of blood pressure variations throughout the day and night.\\n- White-Coat Hypertension: A condition where a person's blood pressure is higher in a medical setting (doctor's office) than in other settings, leading to a false diagnosis of hypertension.\\n- Sustained hypertension: Persistent high blood pressure readings over time, indicating a need for ongoing treatment to manage blood pressure levels.\\n\\n\\n\"),\n",
       " Document(metadata={}, page_content=\"\\nWhats in the chest x ray result ? is the medical image okay ? medical image report ? What is found in Chest X ray ?\\nChest X ray results: \\n{'Consolidation': 97.86, 'Edema': 100.0, 'Infiltration': 100.0, 'Mass': 99.74, 'Pneumonia': 97.34} \\n\\n\\n\"),\n",
       " Document(metadata={}, page_content=' \\nAll information about Ibuprofen \\n{\\n    \"medication_name\": \"Ibuprofen\",\\n    \"generic_name\": \"ibuprofen\",\\n    \"ingredients\": [\\n        \"ibuprofen\"\\n    ],\\n    \"brand_names\": [\\n        \"Advil\",\\n        \"Genpril\",\\n        \"IBU\",\\n        \"Midol IB\",\\n        \"Motrin IB\",\\n        \"Proprinal\",\\n        \"Smart Sense Children\\'s Ibuprofen\"\\n    ],\\n    \"medicine_use\": \"Ibuprofen is used to reduce fever and treat pain or inflammation caused by many conditions such as headache, toothache, back pain, arthritis, menstrual cramps, or minor injury.\",\\n    \"common_side_effects\": [\\n        \"nausea\",\\n        \"vomiting\",\\n        \"gas\",\\n        \"bleeding\",\\n        \"dizziness\",\\n        \"headache\"\\n    ],\\n    \"severe_side_effects\": [\\n        \"stomach or intestinal bleeding\",\\n        \"heart attack\",\\n        \"stroke\",\\n        \"liver problems\",\\n        \"kidney problems\",\\n        \"allergic reaction\",\\n        \"severe skin reaction\",\\n        \"vision changes\",\\n        \"anemia\"\\n    ],\\n    \"immediate_attention_side_effects\": [\\n        \"signs of an allergic reaction to ibuprofen\",\\n        \"signs of a heart attack or stroke\",\\n        \"signs of stomach bleeding\",\\n        \"liver problems\",\\n        \"kidney problems\"\\n    ],\\n    \"how_to_use\": \"Use ibuprofen exactly as directed on the label, or as prescribed by your doctor. Use the lowest dose that is effective in treating your condition. The maximum amount of ibuprofen for adults is 800 milligrams per dose or 3200 mg per day (4 maximum doses).\",\\n    \"storage_instructions\": \"Store at room temperature away from moisture and heat. Do not allow the liquid medicine to freeze.\",\\n    \"mechanism_of_action\": \"It works by reducing hormones that cause inflammation and pain in the body.\",\\n    \"warnings_precautions\": [\\n        \"Can increase risk of fatal heart attack or stroke.\",\\n        \"Can cause stomach or intestinal bleeding, which can be fatal.\",\\n        \"Do not use before or after heart bypass surgery.\"\\n    ],\\n    \"alternative_medicines\": [\\n        \"Naproxen\"\\n    ],\\n    \"natural_alternatives\": [\\n        \"missing\"\\n    ],\\n    \"regulatory_approval\": \"Rx and/or OTC\",\\n    \"drug_interactions\": \"Ask your doctor before using ibuprofen if you take an antidepressant. Potential interactions with other medications including blood thinners and certain antidepressants.\",\\n    \"forms_variants\": [\\n        \"oral capsule (200 mg)\",\\n        \"oral suspension (100 mg/5 mL; 50 mg/1.25 mL)\",\\n        \"oral tablet (100 mg; 200 mg; 400 mg; 600 mg; 800 mg)\",\\n        \"oral tablet, chewable (100 mg; 50 mg)\"\\n    ],\\n    \"prescription_required\": null,\\n    \"contraindications\": [\\n        \"allergic to ibuprofen\",\\n        \"history of asthma attack after taking aspirin or NSAID\",\\n        \"stomach ulcers or bleeding\",\\n        \"liver disease\",\\n        \"kidney disease\",\\n        \"if taking aspirin to prevent heart attack or stroke\"\\n    ],\\n    \"drug_class\": \"Nonsteroidal anti-inflammatory drugs\",\\n    \"pregnancy_lactation\": \"Ask a doctor before using this medicine if you are pregnant or breastfeeding. Taking an NSAID during the last 20 weeks of pregnancy can cause serious heart or kidney problems in the unborn baby and possible complications with your pregnancy.\",\\n    \"dosage_forms\": [\\n        \"oral capsule\",\\n        \"oral suspension\",\\n        \"oral tablet\",\\n        \"chewable tablet\"\\n    ],\\n    \"special_populations_children\": \"Do not give ibuprofen to a child younger than 6 months old without the advice of a doctor.\",\\n    \"special_populations_elderly\": \"missing\",\\n    \"special_populations_renal_impairment\": \"missing\",\\n    \"special_populations_hepatic_impairment\": \"missing\",\\n    \"overdose_information\": \"Seek emergency medical attention or call the Poison Help line at 1-800-222-1222. Overdose symptoms may include nausea, vomiting, stomach pain, drowsiness, black or bloody stools, coughing up blood, shallow breathing, fainting or coma.\",\\n    \"reviews_rating\": \"7.4 / 10\"\\n}\\n\\n'),\n",
       " Document(metadata={}, page_content='\\nAll information about paracetamol | \\n{\\n    \"medication_name\": \"Paracetamol\",\\n    \"generic_name\": \"paracetamol\",\\n    \"ingredients\": [\\n        \"paracetamol\"\\n    ],\\n    \"brand_names\": [\\n        \"Panadol\",\\n        \"Calpol\",\\n        \"Tylenol\",\\n        \"Alvedon\"\\n    ],\\n    \"medicine_use\": \"used to temporarily relieve mild-to-moderate pain and fever\",\\n    \"common_side_effects\": [\\n        \"Redness or soreness in or around the rectum\"\\n    ],\\n    \"severe_side_effects\": [\\n        \"Allergic reactions, skin rashes, itching or hives, swelling of the throat, tongue or face, shortness of breath or wheezing\",\\n        \"Skin rash or peeling, or mouth ulcers\",\\n        \"Breathing problems\",\\n        \"Unexplained bruising or bleeding, becoming unusually tired, getting more infections than usual\",\\n        \"Liver problems, nausea, sudden weight loss, loss of appetite, yellowing of the eyes and skin\"\\n    ],\\n    \"immediate_attention_side_effects\": [\\n        \"paleness\",\\n        \"nausea\",\\n        \"sweating\",\\n        \"vomiting\",\\n        \"loss of appetite\",\\n        \"abdominal pain\"\\n    ],\\n    \"how_to_use\": \"Always use exactly as your doctor or pharmacist tells you to. Do not take more than the recommended dose. Check the instructions for the paracetamol product you have. Paracetamol may be taken every 4 to 6 hours. Leave at least 4 hours between doses. Do not take more than four doses in 24 hours. Do not take for more than 3 days, unless your doctor tells you to. Contact your healthcare professional if your symptoms get worse or do not improve.\",\\n    \"storage_instructions\": \"Keep out of sight and reach of children; do not use the medicine after the expiry date; store below 77\\\\u00b0F (25\\\\u00b0C) unless instructed otherwise; store paracetamol suppositories in a cool, dry place below 77\\\\u00b0F (25\\\\u00b0C) and out of direct sunlight; store paracetamol effervescent tablets below 86\\\\u00b0F (30\\\\u00b0C); store paracetamol solution for infusion below 86\\\\u00b0F (30\\\\u00b0C) and do not refrigerate or freeze.\",\\n    \"mechanism_of_action\": \"thought to work by blocking chemical messengers in the brain that let us know when we\\'re in pain and by affecting the chemical messengers that regulate our body temperature; inhibits the production of prostaglandins\",\\n    \"warnings_precautions\": [\\n        \"Do not take paracetamol if you are allergic to it or any of the other ingredients.\",\\n        \"May be more sensitive to side effects if consuming large amounts of alcohol.\",\\n        \"Contact your doctor immediately if symptoms of metabolic acidosis occur.\"\\n    ],\\n    \"alternative_medicines\": [\\n        \"Tramadol\",\\n        \"Naproxen\",\\n        \"Hydroxyzine\",\\n        \"Cyclobenzaprine\",\\n        \"Meloxicam\",\\n        \"Oxycodone\",\\n        \"Diclofenac\"\\n    ],\\n    \"natural_alternatives\": [\\n        \"missing\"\\n    ],\\n    \"regulatory_approval\": \"available over-the-counter (OTC) and as a prescription medication\",\\n    \"drug_interactions\": \"Blood thinning medications such as warfarin; medications for nausea such as metoclopramide; cholestyramine for high cholesterol; lamotrigine for epilepsy; isoniazide for tuberculosis; aspirin; barbiturates and tricyclic antidepressants; probenecid; chloramphenicol; zidovudine; flucloxacillin\",\\n    \"forms_variants\": [\\n        \"effervescent tablet\",\\n        \"intravenous (infusion) injection\",\\n        \"orally disintegrating tablet\",\\n        \"oral capsule\",\\n        \"oral powder\",\\n        \"oral suspension\",\\n        \"oral tablet\",\\n        \"suppository\"\\n    ],\\n    \"prescription_required\": false,\\n    \"contraindications\": [\\n        \"allergy to paracetamol or any other ingredient\",\\n        \"severe infection\",\\n        \"asthma sensitive to aspirin\"\\n    ],\\n    \"drug_class\": \"Miscellaneous analgesics\",\\n    \"pregnancy_lactation\": \"can be used during pregnancy; can be taken if breastfeeding\",\\n    \"dosage_forms\": [\\n        \"tablets\",\\n        \"capsules\",\\n        \"oral suspension\",\\n        \"suppositories\",\\n        \"effervescent tablets\",\\n        \"solution for infusion\",\\n        \"orally disintegrating tablets\",\\n        \"powder\"\\n    ],\\n    \"special_populations_children\": \"check with your doctor or pharmacist about the correct dose based on child\\'s age and weight.\",\\n    \"special_populations_elderly\": \"missing\",\\n    \"special_populations_renal_impairment\": \"missing\",\\n    \"special_populations_hepatic_impairment\": \"use caution in patients with liver problems, may need to avoid or limit use\",\\n    \"overdose_information\": \"get medical help immediately; symptoms may include paleness, nausea, sweating, vomiting, loss of appetite, and abdominal pain; quick medical attention is critical even if they seem well.\",\\n    \"reviews_rating\": \"7.0 / 10\"\\n}\\n\\n'),\n",
       " Document(metadata={}, page_content=\"\\nPrices of medicines | Cost of medicines | How much these comes at ? Where can i get these ? Links on the internet ? Where to buy ? \\n\\n\\n[{'name': 'BRUFEN 400MG TABLET', 'price': '16.99', 'quantity': '15S', 'url': 'https://www.practo.com/medicine-info/ibuprofen-395-api'}, {'name': 'ibuprofen', 'price': 'NA', 'quantity': 'NA', 'url': 'https://www.netmeds.com/prescriptions/337279?srsltid=AfmBOorjMq-eX4UVqchmL_Md8V6dSJYVITX11avgnk6gXsWiuMwTc4zE'}, \\n {'name': 'Ibuprofen', 'price': '4.00', 'quantity': '10 Tablets', 'url': 'https://pharmeasy.in/online-medicine-order/ibuprofen-alk-250mg-strip-of-250-tablets-195197'}, {'name': 'Ibuprofen', 'price': '66.88', 'quantity': '250 Tablets', 'url': 'https://www.apollopharmacy.in/medicine/ibuprofen-400-mg-tablet-10-s?srsltid=AfmBOoqLbAtMxW7PUsK-rUcomvPTyf4NR-mK5YwVCU1zIY4IeCDBh7-8'},\\n  {'name': 'Ibuprofen 400 mg Tablet', 'price': 'NA', 'quantity': '10s', 'url': 'https://www.medkart.in/order-medicine/brufen-400mg-tablet-15s'}]\\n\\n\\n[{'name': 'PARACETAMOL 500MG TABLET', 'price': '17.94', 'quantity': '20S', 'url': 'https://www.practo.com/medicine-info/paracetamol-219-api'}, {'name': 'paracetamol', 'price': 'NA', 'quantity': 'NA', 'url': 'https://www.netmeds.com/prescriptions/paracetamol-tablet-10-s'}, {'name': 'paracetamol', 'price': 'NA', \\n'quantity': 'NA', 'url': 'https://pharmeasy.in/online-medicine-order/paracetamol-cipla-500-mg-tablet-10-198467'}, {'name': 'PARACETAMOL Tablet', 'price': '10.08', 'quantity': '10 Tablets', 'url': 'https://www.apollopharmacy.in/salt/Paracetamol?srsltid=AfmBOopA2iEFVNA2JqQ8h1keENoif1l8Ok6H9YPoo3omyhDA0SyPkgvU'}, \\n{'name': 'Paracetamol 500mg Strip Of 10 Tablets Cipla', 'price': '7.62', 'quantity': '10 Tablets', 'url': 'https://www.medkart.in/order-medicine/paracetamol-500mg-tablet-20s'}]\")]"
      ]
     },
     "execution_count": 26,
     "metadata": {},
     "output_type": "execute_result"
    }
   ],
   "source": [
    "docs"
   ]
  },
  {
   "cell_type": "code",
   "execution_count": 27,
   "metadata": {},
   "outputs": [],
   "source": [
    "store = vector_store.from_documents(docs, em_model)"
   ]
  },
  {
   "cell_type": "code",
   "execution_count": 28,
   "metadata": {},
   "outputs": [],
   "source": [
    "retriever = store.as_retriever(\n",
    "    search_kwargs = {\"k\": 2}\n",
    ")"
   ]
  },
  {
   "cell_type": "code",
   "execution_count": 49,
   "metadata": {},
   "outputs": [],
   "source": [
    "res = retriever.invoke(\n",
    "    \"What are some alternative medicines for paracetamol?\"\n",
    ")"
   ]
  },
  {
   "cell_type": "code",
   "execution_count": 50,
   "metadata": {},
   "outputs": [
    {
     "data": {
      "text/plain": [
       "[Document(id='d06031e8-243a-4cea-8ec2-8b0a37deaaa8', metadata={}, page_content='\\nAll information about paracetamol | \\n{\\n    \"medication_name\": \"Paracetamol\",\\n    \"generic_name\": \"paracetamol\",\\n    \"ingredients\": [\\n        \"paracetamol\"\\n    ],\\n    \"brand_names\": [\\n        \"Panadol\",\\n        \"Calpol\",\\n        \"Tylenol\",\\n        \"Alvedon\"\\n    ],\\n    \"medicine_use\": \"used to temporarily relieve mild-to-moderate pain and fever\",\\n    \"common_side_effects\": [\\n        \"Redness or soreness in or around the rectum\"\\n    ],\\n    \"severe_side_effects\": [\\n        \"Allergic reactions, skin rashes, itching or hives, swelling of the throat, tongue or face, shortness of breath or wheezing\",\\n        \"Skin rash or peeling, or mouth ulcers\",\\n        \"Breathing problems\",\\n        \"Unexplained bruising or bleeding, becoming unusually tired, getting more infections than usual\",\\n        \"Liver problems, nausea, sudden weight loss, loss of appetite, yellowing of the eyes and skin\"\\n    ],\\n    \"immediate_attention_side_effects\": [\\n        \"paleness\",\\n        \"nausea\",\\n        \"sweating\",\\n        \"vomiting\",\\n        \"loss of appetite\",\\n        \"abdominal pain\"\\n    ],\\n    \"how_to_use\": \"Always use exactly as your doctor or pharmacist tells you to. Do not take more than the recommended dose. Check the instructions for the paracetamol product you have. Paracetamol may be taken every 4 to 6 hours. Leave at least 4 hours between doses. Do not take more than four doses in 24 hours. Do not take for more than 3 days, unless your doctor tells you to. Contact your healthcare professional if your symptoms get worse or do not improve.\",\\n    \"storage_instructions\": \"Keep out of sight and reach of children; do not use the medicine after the expiry date; store below 77\\\\u00b0F (25\\\\u00b0C) unless instructed otherwise; store paracetamol suppositories in a cool, dry place below 77\\\\u00b0F (25\\\\u00b0C) and out of direct sunlight; store paracetamol effervescent tablets below 86\\\\u00b0F (30\\\\u00b0C); store paracetamol solution for infusion below 86\\\\u00b0F (30\\\\u00b0C) and do not refrigerate or freeze.\",\\n    \"mechanism_of_action\": \"thought to work by blocking chemical messengers in the brain that let us know when we\\'re in pain and by affecting the chemical messengers that regulate our body temperature; inhibits the production of prostaglandins\",\\n    \"warnings_precautions\": [\\n        \"Do not take paracetamol if you are allergic to it or any of the other ingredients.\",\\n        \"May be more sensitive to side effects if consuming large amounts of alcohol.\",\\n        \"Contact your doctor immediately if symptoms of metabolic acidosis occur.\"\\n    ],\\n    \"alternative_medicines\": [\\n        \"Tramadol\",\\n        \"Naproxen\",\\n        \"Hydroxyzine\",\\n        \"Cyclobenzaprine\",\\n        \"Meloxicam\",\\n        \"Oxycodone\",\\n        \"Diclofenac\"\\n    ],\\n    \"natural_alternatives\": [\\n        \"missing\"\\n    ],\\n    \"regulatory_approval\": \"available over-the-counter (OTC) and as a prescription medication\",\\n    \"drug_interactions\": \"Blood thinning medications such as warfarin; medications for nausea such as metoclopramide; cholestyramine for high cholesterol; lamotrigine for epilepsy; isoniazide for tuberculosis; aspirin; barbiturates and tricyclic antidepressants; probenecid; chloramphenicol; zidovudine; flucloxacillin\",\\n    \"forms_variants\": [\\n        \"effervescent tablet\",\\n        \"intravenous (infusion) injection\",\\n        \"orally disintegrating tablet\",\\n        \"oral capsule\",\\n        \"oral powder\",\\n        \"oral suspension\",\\n        \"oral tablet\",\\n        \"suppository\"\\n    ],\\n    \"prescription_required\": false,\\n    \"contraindications\": [\\n        \"allergy to paracetamol or any other ingredient\",\\n        \"severe infection\",\\n        \"asthma sensitive to aspirin\"\\n    ],\\n    \"drug_class\": \"Miscellaneous analgesics\",\\n    \"pregnancy_lactation\": \"can be used during pregnancy; can be taken if breastfeeding\",\\n    \"dosage_forms\": [\\n        \"tablets\",\\n        \"capsules\",\\n        \"oral suspension\",\\n        \"suppositories\",\\n        \"effervescent tablets\",\\n        \"solution for infusion\",\\n        \"orally disintegrating tablets\",\\n        \"powder\"\\n    ],\\n    \"special_populations_children\": \"check with your doctor or pharmacist about the correct dose based on child\\'s age and weight.\",\\n    \"special_populations_elderly\": \"missing\",\\n    \"special_populations_renal_impairment\": \"missing\",\\n    \"special_populations_hepatic_impairment\": \"use caution in patients with liver problems, may need to avoid or limit use\",\\n    \"overdose_information\": \"get medical help immediately; symptoms may include paleness, nausea, sweating, vomiting, loss of appetite, and abdominal pain; quick medical attention is critical even if they seem well.\",\\n    \"reviews_rating\": \"7.0 / 10\"\\n}\\n\\n'),\n",
       " Document(id='0602e47d-673d-499c-aa3e-a1d3cbdde909', metadata={}, page_content=\"\\nPrices of medicines | Cost of medicines | How much these comes at ? Where can i get these ? Links on the internet ? Where to buy ? \\n\\n\\n[{'name': 'BRUFEN 400MG TABLET', 'price': '16.99', 'quantity': '15S', 'url': 'https://www.practo.com/medicine-info/ibuprofen-395-api'}, {'name': 'ibuprofen', 'price': 'NA', 'quantity': 'NA', 'url': 'https://www.netmeds.com/prescriptions/337279?srsltid=AfmBOorjMq-eX4UVqchmL_Md8V6dSJYVITX11avgnk6gXsWiuMwTc4zE'}, \\n {'name': 'Ibuprofen', 'price': '4.00', 'quantity': '10 Tablets', 'url': 'https://pharmeasy.in/online-medicine-order/ibuprofen-alk-250mg-strip-of-250-tablets-195197'}, {'name': 'Ibuprofen', 'price': '66.88', 'quantity': '250 Tablets', 'url': 'https://www.apollopharmacy.in/medicine/ibuprofen-400-mg-tablet-10-s?srsltid=AfmBOoqLbAtMxW7PUsK-rUcomvPTyf4NR-mK5YwVCU1zIY4IeCDBh7-8'},\\n  {'name': 'Ibuprofen 400 mg Tablet', 'price': 'NA', 'quantity': '10s', 'url': 'https://www.medkart.in/order-medicine/brufen-400mg-tablet-15s'}]\\n\\n\\n[{'name': 'PARACETAMOL 500MG TABLET', 'price': '17.94', 'quantity': '20S', 'url': 'https://www.practo.com/medicine-info/paracetamol-219-api'}, {'name': 'paracetamol', 'price': 'NA', 'quantity': 'NA', 'url': 'https://www.netmeds.com/prescriptions/paracetamol-tablet-10-s'}, {'name': 'paracetamol', 'price': 'NA', \\n'quantity': 'NA', 'url': 'https://pharmeasy.in/online-medicine-order/paracetamol-cipla-500-mg-tablet-10-198467'}, {'name': 'PARACETAMOL Tablet', 'price': '10.08', 'quantity': '10 Tablets', 'url': 'https://www.apollopharmacy.in/salt/Paracetamol?srsltid=AfmBOopA2iEFVNA2JqQ8h1keENoif1l8Ok6H9YPoo3omyhDA0SyPkgvU'}, \\n{'name': 'Paracetamol 500mg Strip Of 10 Tablets Cipla', 'price': '7.62', 'quantity': '10 Tablets', 'url': 'https://www.medkart.in/order-medicine/paracetamol-500mg-tablet-20s'}]\")]"
      ]
     },
     "execution_count": 50,
     "metadata": {},
     "output_type": "execute_result"
    }
   ],
   "source": [
    "res"
   ]
  },
  {
   "cell_type": "code",
   "execution_count": 61,
   "metadata": {},
   "outputs": [],
   "source": [
    "relevant_doc = res[0].page_content +  \"\\n\" + res[1].page_content"
   ]
  },
  {
   "cell_type": "code",
   "execution_count": 62,
   "metadata": {},
   "outputs": [
    {
     "data": {
      "text/plain": [
       "'\\nAll information about paracetamol | \\n{\\n    \"medication_name\": \"Paracetamol\",\\n    \"generic_name\": \"paracetamol\",\\n    \"ingredients\": [\\n        \"paracetamol\"\\n    ],\\n    \"brand_names\": [\\n        \"Panadol\",\\n        \"Calpol\",\\n        \"Tylenol\",\\n        \"Alvedon\"\\n    ],\\n    \"medicine_use\": \"used to temporarily relieve mild-to-moderate pain and fever\",\\n    \"common_side_effects\": [\\n        \"Redness or soreness in or around the rectum\"\\n    ],\\n    \"severe_side_effects\": [\\n        \"Allergic reactions, skin rashes, itching or hives, swelling of the throat, tongue or face, shortness of breath or wheezing\",\\n        \"Skin rash or peeling, or mouth ulcers\",\\n        \"Breathing problems\",\\n        \"Unexplained bruising or bleeding, becoming unusually tired, getting more infections than usual\",\\n        \"Liver problems, nausea, sudden weight loss, loss of appetite, yellowing of the eyes and skin\"\\n    ],\\n    \"immediate_attention_side_effects\": [\\n        \"paleness\",\\n        \"nausea\",\\n        \"sweating\",\\n        \"vomiting\",\\n        \"loss of appetite\",\\n        \"abdominal pain\"\\n    ],\\n    \"how_to_use\": \"Always use exactly as your doctor or pharmacist tells you to. Do not take more than the recommended dose. Check the instructions for the paracetamol product you have. Paracetamol may be taken every 4 to 6 hours. Leave at least 4 hours between doses. Do not take more than four doses in 24 hours. Do not take for more than 3 days, unless your doctor tells you to. Contact your healthcare professional if your symptoms get worse or do not improve.\",\\n    \"storage_instructions\": \"Keep out of sight and reach of children; do not use the medicine after the expiry date; store below 77\\\\u00b0F (25\\\\u00b0C) unless instructed otherwise; store paracetamol suppositories in a cool, dry place below 77\\\\u00b0F (25\\\\u00b0C) and out of direct sunlight; store paracetamol effervescent tablets below 86\\\\u00b0F (30\\\\u00b0C); store paracetamol solution for infusion below 86\\\\u00b0F (30\\\\u00b0C) and do not refrigerate or freeze.\",\\n    \"mechanism_of_action\": \"thought to work by blocking chemical messengers in the brain that let us know when we\\'re in pain and by affecting the chemical messengers that regulate our body temperature; inhibits the production of prostaglandins\",\\n    \"warnings_precautions\": [\\n        \"Do not take paracetamol if you are allergic to it or any of the other ingredients.\",\\n        \"May be more sensitive to side effects if consuming large amounts of alcohol.\",\\n        \"Contact your doctor immediately if symptoms of metabolic acidosis occur.\"\\n    ],\\n    \"alternative_medicines\": [\\n        \"Tramadol\",\\n        \"Naproxen\",\\n        \"Hydroxyzine\",\\n        \"Cyclobenzaprine\",\\n        \"Meloxicam\",\\n        \"Oxycodone\",\\n        \"Diclofenac\"\\n    ],\\n    \"natural_alternatives\": [\\n        \"missing\"\\n    ],\\n    \"regulatory_approval\": \"available over-the-counter (OTC) and as a prescription medication\",\\n    \"drug_interactions\": \"Blood thinning medications such as warfarin; medications for nausea such as metoclopramide; cholestyramine for high cholesterol; lamotrigine for epilepsy; isoniazide for tuberculosis; aspirin; barbiturates and tricyclic antidepressants; probenecid; chloramphenicol; zidovudine; flucloxacillin\",\\n    \"forms_variants\": [\\n        \"effervescent tablet\",\\n        \"intravenous (infusion) injection\",\\n        \"orally disintegrating tablet\",\\n        \"oral capsule\",\\n        \"oral powder\",\\n        \"oral suspension\",\\n        \"oral tablet\",\\n        \"suppository\"\\n    ],\\n    \"prescription_required\": false,\\n    \"contraindications\": [\\n        \"allergy to paracetamol or any other ingredient\",\\n        \"severe infection\",\\n        \"asthma sensitive to aspirin\"\\n    ],\\n    \"drug_class\": \"Miscellaneous analgesics\",\\n    \"pregnancy_lactation\": \"can be used during pregnancy; can be taken if breastfeeding\",\\n    \"dosage_forms\": [\\n        \"tablets\",\\n        \"capsules\",\\n        \"oral suspension\",\\n        \"suppositories\",\\n        \"effervescent tablets\",\\n        \"solution for infusion\",\\n        \"orally disintegrating tablets\",\\n        \"powder\"\\n    ],\\n    \"special_populations_children\": \"check with your doctor or pharmacist about the correct dose based on child\\'s age and weight.\",\\n    \"special_populations_elderly\": \"missing\",\\n    \"special_populations_renal_impairment\": \"missing\",\\n    \"special_populations_hepatic_impairment\": \"use caution in patients with liver problems, may need to avoid or limit use\",\\n    \"overdose_information\": \"get medical help immediately; symptoms may include paleness, nausea, sweating, vomiting, loss of appetite, and abdominal pain; quick medical attention is critical even if they seem well.\",\\n    \"reviews_rating\": \"7.0 / 10\"\\n}\\n\\n\\n\\nPrices of medicines | Cost of medicines | How much these comes at ? Where can i get these ? Links on the internet ? Where to buy ? \\n\\n\\n[{\\'name\\': \\'BRUFEN 400MG TABLET\\', \\'price\\': \\'16.99\\', \\'quantity\\': \\'15S\\', \\'url\\': \\'https://www.practo.com/medicine-info/ibuprofen-395-api\\'}, {\\'name\\': \\'ibuprofen\\', \\'price\\': \\'NA\\', \\'quantity\\': \\'NA\\', \\'url\\': \\'https://www.netmeds.com/prescriptions/337279?srsltid=AfmBOorjMq-eX4UVqchmL_Md8V6dSJYVITX11avgnk6gXsWiuMwTc4zE\\'}, \\n {\\'name\\': \\'Ibuprofen\\', \\'price\\': \\'4.00\\', \\'quantity\\': \\'10 Tablets\\', \\'url\\': \\'https://pharmeasy.in/online-medicine-order/ibuprofen-alk-250mg-strip-of-250-tablets-195197\\'}, {\\'name\\': \\'Ibuprofen\\', \\'price\\': \\'66.88\\', \\'quantity\\': \\'250 Tablets\\', \\'url\\': \\'https://www.apollopharmacy.in/medicine/ibuprofen-400-mg-tablet-10-s?srsltid=AfmBOoqLbAtMxW7PUsK-rUcomvPTyf4NR-mK5YwVCU1zIY4IeCDBh7-8\\'},\\n  {\\'name\\': \\'Ibuprofen 400 mg Tablet\\', \\'price\\': \\'NA\\', \\'quantity\\': \\'10s\\', \\'url\\': \\'https://www.medkart.in/order-medicine/brufen-400mg-tablet-15s\\'}]\\n\\n\\n[{\\'name\\': \\'PARACETAMOL 500MG TABLET\\', \\'price\\': \\'17.94\\', \\'quantity\\': \\'20S\\', \\'url\\': \\'https://www.practo.com/medicine-info/paracetamol-219-api\\'}, {\\'name\\': \\'paracetamol\\', \\'price\\': \\'NA\\', \\'quantity\\': \\'NA\\', \\'url\\': \\'https://www.netmeds.com/prescriptions/paracetamol-tablet-10-s\\'}, {\\'name\\': \\'paracetamol\\', \\'price\\': \\'NA\\', \\n\\'quantity\\': \\'NA\\', \\'url\\': \\'https://pharmeasy.in/online-medicine-order/paracetamol-cipla-500-mg-tablet-10-198467\\'}, {\\'name\\': \\'PARACETAMOL Tablet\\', \\'price\\': \\'10.08\\', \\'quantity\\': \\'10 Tablets\\', \\'url\\': \\'https://www.apollopharmacy.in/salt/Paracetamol?srsltid=AfmBOopA2iEFVNA2JqQ8h1keENoif1l8Ok6H9YPoo3omyhDA0SyPkgvU\\'}, \\n{\\'name\\': \\'Paracetamol 500mg Strip Of 10 Tablets Cipla\\', \\'price\\': \\'7.62\\', \\'quantity\\': \\'10 Tablets\\', \\'url\\': \\'https://www.medkart.in/order-medicine/paracetamol-500mg-tablet-20s\\'}]'"
      ]
     },
     "execution_count": 62,
     "metadata": {},
     "output_type": "execute_result"
    }
   ],
   "source": [
    "relevant_doc"
   ]
  },
  {
   "cell_type": "code",
   "execution_count": 52,
   "metadata": {},
   "outputs": [
    {
     "name": "stderr",
     "output_type": "stream",
     "text": [
      "C:\\Users\\91790\\AppData\\Local\\Temp\\ipykernel_18468\\291976851.py:5: LangChainDeprecationWarning: The class `ChatOpenAI` was deprecated in LangChain 0.0.10 and will be removed in 1.0. An updated version of the class exists in the :class:`~langchain-openai package and should be used instead. To use it run `pip install -U :class:`~langchain-openai` and import as `from :class:`~langchain_openai import ChatOpenAI``.\n",
      "  llm = ChatOpenAI(\n"
     ]
    }
   ],
   "source": [
    "from langchain.chat_models import ChatOpenAI\n",
    "from langchain.callbacks.streaming_stdout import StreamingStdOutCallbackHandler\n",
    "import os \n",
    "\n",
    "llm = ChatOpenAI(\n",
    "    streaming=True,\n",
    "    callbacks=[StreamingStdOutCallbackHandler()],\n",
    "    openai_api_key=os.getenv(\"OPENAI_API_KEY\")\n",
    ")\n"
   ]
  },
  {
   "cell_type": "code",
   "execution_count": 53,
   "metadata": {},
   "outputs": [],
   "source": [
    "from langchain.chains import RetrievalQA\n",
    "\n",
    "qa_chain = RetrievalQA.from_chain_type(\n",
    "    llm=llm,\n",
    "    chain_type=\"stuff\",\n",
    "    retriever=retriever\n",
    ")\n"
   ]
  },
  {
   "cell_type": "code",
   "execution_count": 55,
   "metadata": {},
   "outputs": [
    {
     "name": "stdout",
     "output_type": "stream",
     "text": [
      "Common side effects of Ibuprofen include:\n",
      "- Nausea\n",
      "- Vomiting\n",
      "- Gas\n",
      "- Bleeding\n",
      "- Dizziness\n",
      "- Headache\n",
      "\n",
      "Severe side effects of Ibuprofen can include:\n",
      "- Stomach or intestinal bleeding\n",
      "- Heart attack\n",
      "- Stroke\n",
      "- Liver problems\n",
      "- Kidney problems\n",
      "- Allergic reaction\n",
      "- Severe skin reaction\n",
      "- Vision changes\n",
      "- Anemia\n",
      "\n",
      "Immediate attention side effects of Ibuprofen include:\n",
      "- Signs of an allergic reaction to ibuprofen\n",
      "- Signs of a heart attack or stroke\n",
      "- Signs of stomach bleeding\n",
      "- Liver problems\n",
      "- Kidney problems"
     ]
    }
   ],
   "source": [
    "response = qa_chain.run(\"Show me side effects of ibuprofen\")"
   ]
  },
  {
   "cell_type": "code",
   "execution_count": 2,
   "metadata": {},
   "outputs": [
    {
     "data": {
      "text/plain": [
       "True"
      ]
     },
     "execution_count": 2,
     "metadata": {},
     "output_type": "execute_result"
    }
   ],
   "source": [
    "from openai import OpenAI\n",
    "import os \n",
    "from dotenv import load_dotenv\n",
    "load_dotenv()"
   ]
  },
  {
   "cell_type": "code",
   "execution_count": 3,
   "metadata": {},
   "outputs": [],
   "source": [
    "client = OpenAI(api_key = os.getenv(\"OPENAI_API_KEY\"))"
   ]
  },
  {
   "cell_type": "code",
   "execution_count": 4,
   "metadata": {},
   "outputs": [],
   "source": [
    "from pydantic import BaseModel"
   ]
  },
  {
   "cell_type": "code",
   "execution_count": 5,
   "metadata": {},
   "outputs": [],
   "source": [
    "class Query(BaseModel): \n",
    "    is_followup: bool \n",
    "    requires_new_context: bool"
   ]
  },
  {
   "cell_type": "code",
   "execution_count": 6,
   "metadata": {},
   "outputs": [],
   "source": [
    "prompt = f\"\"\"\n",
    "    Analyze this query in the context of the current conversation.\n",
    "    \n",
    "    Current topic: is everything ok with my report ? \n",
    "    \n",
    "    Latest conversation:\n",
    "    Yes, the report is fine.\n",
    "\n",
    "    New query: What are some alternative medicines for paracetamol?\n",
    "    \n",
    "    Determine:\n",
    "    1. Is this a follow-up to the previous conversation?\n",
    "    2. Does it require fetching new documentation or can it be answered with existing context?\n",
    "\"\"\"\n",
    "classification = client.beta.chat.completions.parse(\n",
    "    model = \"gpt-4o-mini\",\n",
    "    messages = [\n",
    "        {\n",
    "            \"role\": \"user\", \n",
    "            \"content\": prompt\n",
    "        }\n",
    "    ],\n",
    "    response_format = Query\n",
    ") \n"
   ]
  },
  {
   "cell_type": "code",
   "execution_count": 19,
   "metadata": {},
   "outputs": [
    {
     "data": {
      "text/plain": [
       "False"
      ]
     },
     "execution_count": 19,
     "metadata": {},
     "output_type": "execute_result"
    }
   ],
   "source": [
    "classification.choices[0].message.content\n",
    "\n",
    "import json \n",
    "json.loads(classification.choices[0].message.content).get(\"is_followup\")"
   ]
  },
  {
   "cell_type": "code",
   "execution_count": 1,
   "metadata": {},
   "outputs": [],
   "source": [
    "from openai import OpenAI"
   ]
  },
  {
   "cell_type": "code",
   "execution_count": 2,
   "metadata": {},
   "outputs": [],
   "source": [
    "import os \n",
    "from dotenv import load_dotenv"
   ]
  },
  {
   "cell_type": "code",
   "execution_count": 3,
   "metadata": {},
   "outputs": [
    {
     "data": {
      "text/plain": [
       "True"
      ]
     },
     "execution_count": 3,
     "metadata": {},
     "output_type": "execute_result"
    }
   ],
   "source": [
    "load_dotenv()"
   ]
  },
  {
   "cell_type": "code",
   "execution_count": 7,
   "metadata": {},
   "outputs": [],
   "source": [
    "client = OpenAI(api_key=os.getenv(\"OPENAI_API_KEY\"))"
   ]
  },
  {
   "cell_type": "code",
   "execution_count": 9,
   "metadata": {},
   "outputs": [
    {
     "ename": "APIConnectionError",
     "evalue": "Connection error.",
     "output_type": "error",
     "traceback": [
      "\u001b[1;31m---------------------------------------------------------------------------\u001b[0m",
      "\u001b[1;31mConnectError\u001b[0m                              Traceback (most recent call last)",
      "File \u001b[1;32mc:\\Users\\91790\\anaconda3\\Lib\\site-packages\\httpx\\_transports\\default.py:72\u001b[0m, in \u001b[0;36mmap_httpcore_exceptions\u001b[1;34m()\u001b[0m\n\u001b[0;32m     71\u001b[0m \u001b[38;5;28;01mtry\u001b[39;00m:\n\u001b[1;32m---> 72\u001b[0m     \u001b[38;5;28;01myield\u001b[39;00m\n\u001b[0;32m     73\u001b[0m \u001b[38;5;28;01mexcept\u001b[39;00m \u001b[38;5;167;01mException\u001b[39;00m \u001b[38;5;28;01mas\u001b[39;00m exc:\n",
      "File \u001b[1;32mc:\\Users\\91790\\anaconda3\\Lib\\site-packages\\httpx\\_transports\\default.py:236\u001b[0m, in \u001b[0;36mHTTPTransport.handle_request\u001b[1;34m(self, request)\u001b[0m\n\u001b[0;32m    235\u001b[0m \u001b[38;5;28;01mwith\u001b[39;00m map_httpcore_exceptions():\n\u001b[1;32m--> 236\u001b[0m     resp \u001b[38;5;241m=\u001b[39m \u001b[38;5;28mself\u001b[39m\u001b[38;5;241m.\u001b[39m_pool\u001b[38;5;241m.\u001b[39mhandle_request(req)\n\u001b[0;32m    238\u001b[0m \u001b[38;5;28;01massert\u001b[39;00m \u001b[38;5;28misinstance\u001b[39m(resp\u001b[38;5;241m.\u001b[39mstream, typing\u001b[38;5;241m.\u001b[39mIterable)\n",
      "File \u001b[1;32mc:\\Users\\91790\\anaconda3\\Lib\\site-packages\\httpcore\\_sync\\connection_pool.py:216\u001b[0m, in \u001b[0;36mConnectionPool.handle_request\u001b[1;34m(self, request)\u001b[0m\n\u001b[0;32m    215\u001b[0m     \u001b[38;5;28mself\u001b[39m\u001b[38;5;241m.\u001b[39m_close_connections(closing)\n\u001b[1;32m--> 216\u001b[0m     \u001b[38;5;28;01mraise\u001b[39;00m exc \u001b[38;5;28;01mfrom\u001b[39;00m \u001b[38;5;28;01mNone\u001b[39;00m\n\u001b[0;32m    218\u001b[0m \u001b[38;5;66;03m# Return the response. Note that in this case we still have to manage\u001b[39;00m\n\u001b[0;32m    219\u001b[0m \u001b[38;5;66;03m# the point at which the response is closed.\u001b[39;00m\n",
      "File \u001b[1;32mc:\\Users\\91790\\anaconda3\\Lib\\site-packages\\httpcore\\_sync\\connection_pool.py:196\u001b[0m, in \u001b[0;36mConnectionPool.handle_request\u001b[1;34m(self, request)\u001b[0m\n\u001b[0;32m    194\u001b[0m \u001b[38;5;28;01mtry\u001b[39;00m:\n\u001b[0;32m    195\u001b[0m     \u001b[38;5;66;03m# Send the request on the assigned connection.\u001b[39;00m\n\u001b[1;32m--> 196\u001b[0m     response \u001b[38;5;241m=\u001b[39m connection\u001b[38;5;241m.\u001b[39mhandle_request(\n\u001b[0;32m    197\u001b[0m         pool_request\u001b[38;5;241m.\u001b[39mrequest\n\u001b[0;32m    198\u001b[0m     )\n\u001b[0;32m    199\u001b[0m \u001b[38;5;28;01mexcept\u001b[39;00m ConnectionNotAvailable:\n\u001b[0;32m    200\u001b[0m     \u001b[38;5;66;03m# In some cases a connection may initially be available to\u001b[39;00m\n\u001b[0;32m    201\u001b[0m     \u001b[38;5;66;03m# handle a request, but then become unavailable.\u001b[39;00m\n\u001b[0;32m    202\u001b[0m     \u001b[38;5;66;03m#\u001b[39;00m\n\u001b[0;32m    203\u001b[0m     \u001b[38;5;66;03m# In this case we clear the connection and try again.\u001b[39;00m\n",
      "File \u001b[1;32mc:\\Users\\91790\\anaconda3\\Lib\\site-packages\\httpcore\\_sync\\connection.py:99\u001b[0m, in \u001b[0;36mHTTPConnection.handle_request\u001b[1;34m(self, request)\u001b[0m\n\u001b[0;32m     98\u001b[0m     \u001b[38;5;28mself\u001b[39m\u001b[38;5;241m.\u001b[39m_connect_failed \u001b[38;5;241m=\u001b[39m \u001b[38;5;28;01mTrue\u001b[39;00m\n\u001b[1;32m---> 99\u001b[0m     \u001b[38;5;28;01mraise\u001b[39;00m exc\n\u001b[0;32m    101\u001b[0m \u001b[38;5;28;01mreturn\u001b[39;00m \u001b[38;5;28mself\u001b[39m\u001b[38;5;241m.\u001b[39m_connection\u001b[38;5;241m.\u001b[39mhandle_request(request)\n",
      "File \u001b[1;32mc:\\Users\\91790\\anaconda3\\Lib\\site-packages\\httpcore\\_sync\\connection.py:76\u001b[0m, in \u001b[0;36mHTTPConnection.handle_request\u001b[1;34m(self, request)\u001b[0m\n\u001b[0;32m     75\u001b[0m \u001b[38;5;28;01mif\u001b[39;00m \u001b[38;5;28mself\u001b[39m\u001b[38;5;241m.\u001b[39m_connection \u001b[38;5;129;01mis\u001b[39;00m \u001b[38;5;28;01mNone\u001b[39;00m:\n\u001b[1;32m---> 76\u001b[0m     stream \u001b[38;5;241m=\u001b[39m \u001b[38;5;28mself\u001b[39m\u001b[38;5;241m.\u001b[39m_connect(request)\n\u001b[0;32m     78\u001b[0m     ssl_object \u001b[38;5;241m=\u001b[39m stream\u001b[38;5;241m.\u001b[39mget_extra_info(\u001b[38;5;124m\"\u001b[39m\u001b[38;5;124mssl_object\u001b[39m\u001b[38;5;124m\"\u001b[39m)\n",
      "File \u001b[1;32mc:\\Users\\91790\\anaconda3\\Lib\\site-packages\\httpcore\\_sync\\connection.py:122\u001b[0m, in \u001b[0;36mHTTPConnection._connect\u001b[1;34m(self, request)\u001b[0m\n\u001b[0;32m    121\u001b[0m \u001b[38;5;28;01mwith\u001b[39;00m Trace(\u001b[38;5;124m\"\u001b[39m\u001b[38;5;124mconnect_tcp\u001b[39m\u001b[38;5;124m\"\u001b[39m, logger, request, kwargs) \u001b[38;5;28;01mas\u001b[39;00m trace:\n\u001b[1;32m--> 122\u001b[0m     stream \u001b[38;5;241m=\u001b[39m \u001b[38;5;28mself\u001b[39m\u001b[38;5;241m.\u001b[39m_network_backend\u001b[38;5;241m.\u001b[39mconnect_tcp(\u001b[38;5;241m*\u001b[39m\u001b[38;5;241m*\u001b[39mkwargs)\n\u001b[0;32m    123\u001b[0m     trace\u001b[38;5;241m.\u001b[39mreturn_value \u001b[38;5;241m=\u001b[39m stream\n",
      "File \u001b[1;32mc:\\Users\\91790\\anaconda3\\Lib\\site-packages\\httpcore\\_backends\\sync.py:205\u001b[0m, in \u001b[0;36mSyncBackend.connect_tcp\u001b[1;34m(self, host, port, timeout, local_address, socket_options)\u001b[0m\n\u001b[0;32m    200\u001b[0m exc_map: ExceptionMapping \u001b[38;5;241m=\u001b[39m {\n\u001b[0;32m    201\u001b[0m     socket\u001b[38;5;241m.\u001b[39mtimeout: ConnectTimeout,\n\u001b[0;32m    202\u001b[0m     \u001b[38;5;167;01mOSError\u001b[39;00m: ConnectError,\n\u001b[0;32m    203\u001b[0m }\n\u001b[1;32m--> 205\u001b[0m \u001b[38;5;28;01mwith\u001b[39;00m map_exceptions(exc_map):\n\u001b[0;32m    206\u001b[0m     sock \u001b[38;5;241m=\u001b[39m socket\u001b[38;5;241m.\u001b[39mcreate_connection(\n\u001b[0;32m    207\u001b[0m         address,\n\u001b[0;32m    208\u001b[0m         timeout,\n\u001b[0;32m    209\u001b[0m         source_address\u001b[38;5;241m=\u001b[39msource_address,\n\u001b[0;32m    210\u001b[0m     )\n",
      "File \u001b[1;32mc:\\Users\\91790\\anaconda3\\Lib\\contextlib.py:155\u001b[0m, in \u001b[0;36m_GeneratorContextManager.__exit__\u001b[1;34m(self, typ, value, traceback)\u001b[0m\n\u001b[0;32m    154\u001b[0m \u001b[38;5;28;01mtry\u001b[39;00m:\n\u001b[1;32m--> 155\u001b[0m     \u001b[38;5;28mself\u001b[39m\u001b[38;5;241m.\u001b[39mgen\u001b[38;5;241m.\u001b[39mthrow(typ, value, traceback)\n\u001b[0;32m    156\u001b[0m \u001b[38;5;28;01mexcept\u001b[39;00m \u001b[38;5;167;01mStopIteration\u001b[39;00m \u001b[38;5;28;01mas\u001b[39;00m exc:\n\u001b[0;32m    157\u001b[0m     \u001b[38;5;66;03m# Suppress StopIteration *unless* it's the same exception that\u001b[39;00m\n\u001b[0;32m    158\u001b[0m     \u001b[38;5;66;03m# was passed to throw().  This prevents a StopIteration\u001b[39;00m\n\u001b[0;32m    159\u001b[0m     \u001b[38;5;66;03m# raised inside the \"with\" statement from being suppressed.\u001b[39;00m\n",
      "File \u001b[1;32mc:\\Users\\91790\\anaconda3\\Lib\\site-packages\\httpcore\\_exceptions.py:14\u001b[0m, in \u001b[0;36mmap_exceptions\u001b[1;34m(map)\u001b[0m\n\u001b[0;32m     13\u001b[0m     \u001b[38;5;28;01mif\u001b[39;00m \u001b[38;5;28misinstance\u001b[39m(exc, from_exc):\n\u001b[1;32m---> 14\u001b[0m         \u001b[38;5;28;01mraise\u001b[39;00m to_exc(exc) \u001b[38;5;28;01mfrom\u001b[39;00m \u001b[38;5;21;01mexc\u001b[39;00m\n\u001b[0;32m     15\u001b[0m \u001b[38;5;28;01mraise\u001b[39;00m\n",
      "\u001b[1;31mConnectError\u001b[0m: [Errno 11001] getaddrinfo failed",
      "\nThe above exception was the direct cause of the following exception:\n",
      "\u001b[1;31mConnectError\u001b[0m                              Traceback (most recent call last)",
      "File \u001b[1;32mc:\\Users\\91790\\anaconda3\\Lib\\site-packages\\openai\\_base_client.py:955\u001b[0m, in \u001b[0;36mSyncAPIClient._request\u001b[1;34m(self, cast_to, options, retries_taken, stream, stream_cls)\u001b[0m\n\u001b[0;32m    954\u001b[0m \u001b[38;5;28;01mtry\u001b[39;00m:\n\u001b[1;32m--> 955\u001b[0m     response \u001b[38;5;241m=\u001b[39m \u001b[38;5;28mself\u001b[39m\u001b[38;5;241m.\u001b[39m_client\u001b[38;5;241m.\u001b[39msend(\n\u001b[0;32m    956\u001b[0m         request,\n\u001b[0;32m    957\u001b[0m         stream\u001b[38;5;241m=\u001b[39mstream \u001b[38;5;129;01mor\u001b[39;00m \u001b[38;5;28mself\u001b[39m\u001b[38;5;241m.\u001b[39m_should_stream_response_body(request\u001b[38;5;241m=\u001b[39mrequest),\n\u001b[0;32m    958\u001b[0m         \u001b[38;5;241m*\u001b[39m\u001b[38;5;241m*\u001b[39mkwargs,\n\u001b[0;32m    959\u001b[0m     )\n\u001b[0;32m    960\u001b[0m \u001b[38;5;28;01mexcept\u001b[39;00m httpx\u001b[38;5;241m.\u001b[39mTimeoutException \u001b[38;5;28;01mas\u001b[39;00m err:\n",
      "File \u001b[1;32mc:\\Users\\91790\\anaconda3\\Lib\\site-packages\\httpx\\_client.py:926\u001b[0m, in \u001b[0;36mClient.send\u001b[1;34m(self, request, stream, auth, follow_redirects)\u001b[0m\n\u001b[0;32m    924\u001b[0m auth \u001b[38;5;241m=\u001b[39m \u001b[38;5;28mself\u001b[39m\u001b[38;5;241m.\u001b[39m_build_request_auth(request, auth)\n\u001b[1;32m--> 926\u001b[0m response \u001b[38;5;241m=\u001b[39m \u001b[38;5;28mself\u001b[39m\u001b[38;5;241m.\u001b[39m_send_handling_auth(\n\u001b[0;32m    927\u001b[0m     request,\n\u001b[0;32m    928\u001b[0m     auth\u001b[38;5;241m=\u001b[39mauth,\n\u001b[0;32m    929\u001b[0m     follow_redirects\u001b[38;5;241m=\u001b[39mfollow_redirects,\n\u001b[0;32m    930\u001b[0m     history\u001b[38;5;241m=\u001b[39m[],\n\u001b[0;32m    931\u001b[0m )\n\u001b[0;32m    932\u001b[0m \u001b[38;5;28;01mtry\u001b[39;00m:\n",
      "File \u001b[1;32mc:\\Users\\91790\\anaconda3\\Lib\\site-packages\\httpx\\_client.py:954\u001b[0m, in \u001b[0;36mClient._send_handling_auth\u001b[1;34m(self, request, auth, follow_redirects, history)\u001b[0m\n\u001b[0;32m    953\u001b[0m \u001b[38;5;28;01mwhile\u001b[39;00m \u001b[38;5;28;01mTrue\u001b[39;00m:\n\u001b[1;32m--> 954\u001b[0m     response \u001b[38;5;241m=\u001b[39m \u001b[38;5;28mself\u001b[39m\u001b[38;5;241m.\u001b[39m_send_handling_redirects(\n\u001b[0;32m    955\u001b[0m         request,\n\u001b[0;32m    956\u001b[0m         follow_redirects\u001b[38;5;241m=\u001b[39mfollow_redirects,\n\u001b[0;32m    957\u001b[0m         history\u001b[38;5;241m=\u001b[39mhistory,\n\u001b[0;32m    958\u001b[0m     )\n\u001b[0;32m    959\u001b[0m     \u001b[38;5;28;01mtry\u001b[39;00m:\n",
      "File \u001b[1;32mc:\\Users\\91790\\anaconda3\\Lib\\site-packages\\httpx\\_client.py:991\u001b[0m, in \u001b[0;36mClient._send_handling_redirects\u001b[1;34m(self, request, follow_redirects, history)\u001b[0m\n\u001b[0;32m    989\u001b[0m     hook(request)\n\u001b[1;32m--> 991\u001b[0m response \u001b[38;5;241m=\u001b[39m \u001b[38;5;28mself\u001b[39m\u001b[38;5;241m.\u001b[39m_send_single_request(request)\n\u001b[0;32m    992\u001b[0m \u001b[38;5;28;01mtry\u001b[39;00m:\n",
      "File \u001b[1;32mc:\\Users\\91790\\anaconda3\\Lib\\site-packages\\httpx\\_client.py:1027\u001b[0m, in \u001b[0;36mClient._send_single_request\u001b[1;34m(self, request)\u001b[0m\n\u001b[0;32m   1026\u001b[0m \u001b[38;5;28;01mwith\u001b[39;00m request_context(request\u001b[38;5;241m=\u001b[39mrequest):\n\u001b[1;32m-> 1027\u001b[0m     response \u001b[38;5;241m=\u001b[39m transport\u001b[38;5;241m.\u001b[39mhandle_request(request)\n\u001b[0;32m   1029\u001b[0m \u001b[38;5;28;01massert\u001b[39;00m \u001b[38;5;28misinstance\u001b[39m(response\u001b[38;5;241m.\u001b[39mstream, SyncByteStream)\n",
      "File \u001b[1;32mc:\\Users\\91790\\anaconda3\\Lib\\site-packages\\httpx\\_transports\\default.py:235\u001b[0m, in \u001b[0;36mHTTPTransport.handle_request\u001b[1;34m(self, request)\u001b[0m\n\u001b[0;32m    223\u001b[0m req \u001b[38;5;241m=\u001b[39m httpcore\u001b[38;5;241m.\u001b[39mRequest(\n\u001b[0;32m    224\u001b[0m     method\u001b[38;5;241m=\u001b[39mrequest\u001b[38;5;241m.\u001b[39mmethod,\n\u001b[0;32m    225\u001b[0m     url\u001b[38;5;241m=\u001b[39mhttpcore\u001b[38;5;241m.\u001b[39mURL(\n\u001b[1;32m   (...)\u001b[0m\n\u001b[0;32m    233\u001b[0m     extensions\u001b[38;5;241m=\u001b[39mrequest\u001b[38;5;241m.\u001b[39mextensions,\n\u001b[0;32m    234\u001b[0m )\n\u001b[1;32m--> 235\u001b[0m \u001b[38;5;28;01mwith\u001b[39;00m map_httpcore_exceptions():\n\u001b[0;32m    236\u001b[0m     resp \u001b[38;5;241m=\u001b[39m \u001b[38;5;28mself\u001b[39m\u001b[38;5;241m.\u001b[39m_pool\u001b[38;5;241m.\u001b[39mhandle_request(req)\n",
      "File \u001b[1;32mc:\\Users\\91790\\anaconda3\\Lib\\contextlib.py:155\u001b[0m, in \u001b[0;36m_GeneratorContextManager.__exit__\u001b[1;34m(self, typ, value, traceback)\u001b[0m\n\u001b[0;32m    154\u001b[0m \u001b[38;5;28;01mtry\u001b[39;00m:\n\u001b[1;32m--> 155\u001b[0m     \u001b[38;5;28mself\u001b[39m\u001b[38;5;241m.\u001b[39mgen\u001b[38;5;241m.\u001b[39mthrow(typ, value, traceback)\n\u001b[0;32m    156\u001b[0m \u001b[38;5;28;01mexcept\u001b[39;00m \u001b[38;5;167;01mStopIteration\u001b[39;00m \u001b[38;5;28;01mas\u001b[39;00m exc:\n\u001b[0;32m    157\u001b[0m     \u001b[38;5;66;03m# Suppress StopIteration *unless* it's the same exception that\u001b[39;00m\n\u001b[0;32m    158\u001b[0m     \u001b[38;5;66;03m# was passed to throw().  This prevents a StopIteration\u001b[39;00m\n\u001b[0;32m    159\u001b[0m     \u001b[38;5;66;03m# raised inside the \"with\" statement from being suppressed.\u001b[39;00m\n",
      "File \u001b[1;32mc:\\Users\\91790\\anaconda3\\Lib\\site-packages\\httpx\\_transports\\default.py:89\u001b[0m, in \u001b[0;36mmap_httpcore_exceptions\u001b[1;34m()\u001b[0m\n\u001b[0;32m     88\u001b[0m message \u001b[38;5;241m=\u001b[39m \u001b[38;5;28mstr\u001b[39m(exc)\n\u001b[1;32m---> 89\u001b[0m \u001b[38;5;28;01mraise\u001b[39;00m mapped_exc(message) \u001b[38;5;28;01mfrom\u001b[39;00m \u001b[38;5;21;01mexc\u001b[39;00m\n",
      "\u001b[1;31mConnectError\u001b[0m: [Errno 11001] getaddrinfo failed",
      "\nThe above exception was the direct cause of the following exception:\n",
      "\u001b[1;31mAPIConnectionError\u001b[0m                        Traceback (most recent call last)",
      "Cell \u001b[1;32mIn[9], line 1\u001b[0m\n\u001b[1;32m----> 1\u001b[0m esponse \u001b[38;5;241m=\u001b[39m client\u001b[38;5;241m.\u001b[39mchat\u001b[38;5;241m.\u001b[39mcompletions\u001b[38;5;241m.\u001b[39mcreate(\n\u001b[0;32m      2\u001b[0m             model \u001b[38;5;241m=\u001b[39m \u001b[38;5;124m\"\u001b[39m\u001b[38;5;124mgpt-4o-mini\u001b[39m\u001b[38;5;124m\"\u001b[39m,\n\u001b[0;32m      3\u001b[0m             messages \u001b[38;5;241m=\u001b[39m [\n\u001b[0;32m      4\u001b[0m                 {\n\u001b[0;32m      5\u001b[0m                     \u001b[38;5;124m\"\u001b[39m\u001b[38;5;124mrole\u001b[39m\u001b[38;5;124m\"\u001b[39m: \u001b[38;5;124m\"\u001b[39m\u001b[38;5;124muser\u001b[39m\u001b[38;5;124m\"\u001b[39m, \n\u001b[0;32m      6\u001b[0m                     \u001b[38;5;124m\"\u001b[39m\u001b[38;5;124mcontent\u001b[39m\u001b[38;5;124m\"\u001b[39m: \u001b[38;5;124m\"\u001b[39m\u001b[38;5;124mhow are you\u001b[39m\u001b[38;5;124m\"\u001b[39m\n\u001b[0;32m      7\u001b[0m                 }\n\u001b[0;32m      8\u001b[0m             ]\n\u001b[0;32m      9\u001b[0m         )\n",
      "File \u001b[1;32mc:\\Users\\91790\\anaconda3\\Lib\\site-packages\\openai\\_utils\\_utils.py:279\u001b[0m, in \u001b[0;36mrequired_args.<locals>.inner.<locals>.wrapper\u001b[1;34m(*args, **kwargs)\u001b[0m\n\u001b[0;32m    277\u001b[0m             msg \u001b[38;5;241m=\u001b[39m \u001b[38;5;124mf\u001b[39m\u001b[38;5;124m\"\u001b[39m\u001b[38;5;124mMissing required argument: \u001b[39m\u001b[38;5;132;01m{\u001b[39;00mquote(missing[\u001b[38;5;241m0\u001b[39m])\u001b[38;5;132;01m}\u001b[39;00m\u001b[38;5;124m\"\u001b[39m\n\u001b[0;32m    278\u001b[0m     \u001b[38;5;28;01mraise\u001b[39;00m \u001b[38;5;167;01mTypeError\u001b[39;00m(msg)\n\u001b[1;32m--> 279\u001b[0m \u001b[38;5;28;01mreturn\u001b[39;00m func(\u001b[38;5;241m*\u001b[39margs, \u001b[38;5;241m*\u001b[39m\u001b[38;5;241m*\u001b[39mkwargs)\n",
      "File \u001b[1;32mc:\\Users\\91790\\anaconda3\\Lib\\site-packages\\openai\\resources\\chat\\completions\\completions.py:914\u001b[0m, in \u001b[0;36mCompletions.create\u001b[1;34m(self, messages, model, audio, frequency_penalty, function_call, functions, logit_bias, logprobs, max_completion_tokens, max_tokens, metadata, modalities, n, parallel_tool_calls, prediction, presence_penalty, reasoning_effort, response_format, seed, service_tier, stop, store, stream, stream_options, temperature, tool_choice, tools, top_logprobs, top_p, user, web_search_options, extra_headers, extra_query, extra_body, timeout)\u001b[0m\n\u001b[0;32m    871\u001b[0m \u001b[38;5;129m@required_args\u001b[39m([\u001b[38;5;124m\"\u001b[39m\u001b[38;5;124mmessages\u001b[39m\u001b[38;5;124m\"\u001b[39m, \u001b[38;5;124m\"\u001b[39m\u001b[38;5;124mmodel\u001b[39m\u001b[38;5;124m\"\u001b[39m], [\u001b[38;5;124m\"\u001b[39m\u001b[38;5;124mmessages\u001b[39m\u001b[38;5;124m\"\u001b[39m, \u001b[38;5;124m\"\u001b[39m\u001b[38;5;124mmodel\u001b[39m\u001b[38;5;124m\"\u001b[39m, \u001b[38;5;124m\"\u001b[39m\u001b[38;5;124mstream\u001b[39m\u001b[38;5;124m\"\u001b[39m])\n\u001b[0;32m    872\u001b[0m \u001b[38;5;28;01mdef\u001b[39;00m \u001b[38;5;21mcreate\u001b[39m(\n\u001b[0;32m    873\u001b[0m     \u001b[38;5;28mself\u001b[39m,\n\u001b[1;32m   (...)\u001b[0m\n\u001b[0;32m    911\u001b[0m     timeout: \u001b[38;5;28mfloat\u001b[39m \u001b[38;5;241m|\u001b[39m httpx\u001b[38;5;241m.\u001b[39mTimeout \u001b[38;5;241m|\u001b[39m \u001b[38;5;28;01mNone\u001b[39;00m \u001b[38;5;241m|\u001b[39m NotGiven \u001b[38;5;241m=\u001b[39m NOT_GIVEN,\n\u001b[0;32m    912\u001b[0m ) \u001b[38;5;241m-\u001b[39m\u001b[38;5;241m>\u001b[39m ChatCompletion \u001b[38;5;241m|\u001b[39m Stream[ChatCompletionChunk]:\n\u001b[0;32m    913\u001b[0m     validate_response_format(response_format)\n\u001b[1;32m--> 914\u001b[0m     \u001b[38;5;28;01mreturn\u001b[39;00m \u001b[38;5;28mself\u001b[39m\u001b[38;5;241m.\u001b[39m_post(\n\u001b[0;32m    915\u001b[0m         \u001b[38;5;124m\"\u001b[39m\u001b[38;5;124m/chat/completions\u001b[39m\u001b[38;5;124m\"\u001b[39m,\n\u001b[0;32m    916\u001b[0m         body\u001b[38;5;241m=\u001b[39mmaybe_transform(\n\u001b[0;32m    917\u001b[0m             {\n\u001b[0;32m    918\u001b[0m                 \u001b[38;5;124m\"\u001b[39m\u001b[38;5;124mmessages\u001b[39m\u001b[38;5;124m\"\u001b[39m: messages,\n\u001b[0;32m    919\u001b[0m                 \u001b[38;5;124m\"\u001b[39m\u001b[38;5;124mmodel\u001b[39m\u001b[38;5;124m\"\u001b[39m: model,\n\u001b[0;32m    920\u001b[0m                 \u001b[38;5;124m\"\u001b[39m\u001b[38;5;124maudio\u001b[39m\u001b[38;5;124m\"\u001b[39m: audio,\n\u001b[0;32m    921\u001b[0m                 \u001b[38;5;124m\"\u001b[39m\u001b[38;5;124mfrequency_penalty\u001b[39m\u001b[38;5;124m\"\u001b[39m: frequency_penalty,\n\u001b[0;32m    922\u001b[0m                 \u001b[38;5;124m\"\u001b[39m\u001b[38;5;124mfunction_call\u001b[39m\u001b[38;5;124m\"\u001b[39m: function_call,\n\u001b[0;32m    923\u001b[0m                 \u001b[38;5;124m\"\u001b[39m\u001b[38;5;124mfunctions\u001b[39m\u001b[38;5;124m\"\u001b[39m: functions,\n\u001b[0;32m    924\u001b[0m                 \u001b[38;5;124m\"\u001b[39m\u001b[38;5;124mlogit_bias\u001b[39m\u001b[38;5;124m\"\u001b[39m: logit_bias,\n\u001b[0;32m    925\u001b[0m                 \u001b[38;5;124m\"\u001b[39m\u001b[38;5;124mlogprobs\u001b[39m\u001b[38;5;124m\"\u001b[39m: logprobs,\n\u001b[0;32m    926\u001b[0m                 \u001b[38;5;124m\"\u001b[39m\u001b[38;5;124mmax_completion_tokens\u001b[39m\u001b[38;5;124m\"\u001b[39m: max_completion_tokens,\n\u001b[0;32m    927\u001b[0m                 \u001b[38;5;124m\"\u001b[39m\u001b[38;5;124mmax_tokens\u001b[39m\u001b[38;5;124m\"\u001b[39m: max_tokens,\n\u001b[0;32m    928\u001b[0m                 \u001b[38;5;124m\"\u001b[39m\u001b[38;5;124mmetadata\u001b[39m\u001b[38;5;124m\"\u001b[39m: metadata,\n\u001b[0;32m    929\u001b[0m                 \u001b[38;5;124m\"\u001b[39m\u001b[38;5;124mmodalities\u001b[39m\u001b[38;5;124m\"\u001b[39m: modalities,\n\u001b[0;32m    930\u001b[0m                 \u001b[38;5;124m\"\u001b[39m\u001b[38;5;124mn\u001b[39m\u001b[38;5;124m\"\u001b[39m: n,\n\u001b[0;32m    931\u001b[0m                 \u001b[38;5;124m\"\u001b[39m\u001b[38;5;124mparallel_tool_calls\u001b[39m\u001b[38;5;124m\"\u001b[39m: parallel_tool_calls,\n\u001b[0;32m    932\u001b[0m                 \u001b[38;5;124m\"\u001b[39m\u001b[38;5;124mprediction\u001b[39m\u001b[38;5;124m\"\u001b[39m: prediction,\n\u001b[0;32m    933\u001b[0m                 \u001b[38;5;124m\"\u001b[39m\u001b[38;5;124mpresence_penalty\u001b[39m\u001b[38;5;124m\"\u001b[39m: presence_penalty,\n\u001b[0;32m    934\u001b[0m                 \u001b[38;5;124m\"\u001b[39m\u001b[38;5;124mreasoning_effort\u001b[39m\u001b[38;5;124m\"\u001b[39m: reasoning_effort,\n\u001b[0;32m    935\u001b[0m                 \u001b[38;5;124m\"\u001b[39m\u001b[38;5;124mresponse_format\u001b[39m\u001b[38;5;124m\"\u001b[39m: response_format,\n\u001b[0;32m    936\u001b[0m                 \u001b[38;5;124m\"\u001b[39m\u001b[38;5;124mseed\u001b[39m\u001b[38;5;124m\"\u001b[39m: seed,\n\u001b[0;32m    937\u001b[0m                 \u001b[38;5;124m\"\u001b[39m\u001b[38;5;124mservice_tier\u001b[39m\u001b[38;5;124m\"\u001b[39m: service_tier,\n\u001b[0;32m    938\u001b[0m                 \u001b[38;5;124m\"\u001b[39m\u001b[38;5;124mstop\u001b[39m\u001b[38;5;124m\"\u001b[39m: stop,\n\u001b[0;32m    939\u001b[0m                 \u001b[38;5;124m\"\u001b[39m\u001b[38;5;124mstore\u001b[39m\u001b[38;5;124m\"\u001b[39m: store,\n\u001b[0;32m    940\u001b[0m                 \u001b[38;5;124m\"\u001b[39m\u001b[38;5;124mstream\u001b[39m\u001b[38;5;124m\"\u001b[39m: stream,\n\u001b[0;32m    941\u001b[0m                 \u001b[38;5;124m\"\u001b[39m\u001b[38;5;124mstream_options\u001b[39m\u001b[38;5;124m\"\u001b[39m: stream_options,\n\u001b[0;32m    942\u001b[0m                 \u001b[38;5;124m\"\u001b[39m\u001b[38;5;124mtemperature\u001b[39m\u001b[38;5;124m\"\u001b[39m: temperature,\n\u001b[0;32m    943\u001b[0m                 \u001b[38;5;124m\"\u001b[39m\u001b[38;5;124mtool_choice\u001b[39m\u001b[38;5;124m\"\u001b[39m: tool_choice,\n\u001b[0;32m    944\u001b[0m                 \u001b[38;5;124m\"\u001b[39m\u001b[38;5;124mtools\u001b[39m\u001b[38;5;124m\"\u001b[39m: tools,\n\u001b[0;32m    945\u001b[0m                 \u001b[38;5;124m\"\u001b[39m\u001b[38;5;124mtop_logprobs\u001b[39m\u001b[38;5;124m\"\u001b[39m: top_logprobs,\n\u001b[0;32m    946\u001b[0m                 \u001b[38;5;124m\"\u001b[39m\u001b[38;5;124mtop_p\u001b[39m\u001b[38;5;124m\"\u001b[39m: top_p,\n\u001b[0;32m    947\u001b[0m                 \u001b[38;5;124m\"\u001b[39m\u001b[38;5;124muser\u001b[39m\u001b[38;5;124m\"\u001b[39m: user,\n\u001b[0;32m    948\u001b[0m                 \u001b[38;5;124m\"\u001b[39m\u001b[38;5;124mweb_search_options\u001b[39m\u001b[38;5;124m\"\u001b[39m: web_search_options,\n\u001b[0;32m    949\u001b[0m             },\n\u001b[0;32m    950\u001b[0m             completion_create_params\u001b[38;5;241m.\u001b[39mCompletionCreateParams,\n\u001b[0;32m    951\u001b[0m         ),\n\u001b[0;32m    952\u001b[0m         options\u001b[38;5;241m=\u001b[39mmake_request_options(\n\u001b[0;32m    953\u001b[0m             extra_headers\u001b[38;5;241m=\u001b[39mextra_headers, extra_query\u001b[38;5;241m=\u001b[39mextra_query, extra_body\u001b[38;5;241m=\u001b[39mextra_body, timeout\u001b[38;5;241m=\u001b[39mtimeout\n\u001b[0;32m    954\u001b[0m         ),\n\u001b[0;32m    955\u001b[0m         cast_to\u001b[38;5;241m=\u001b[39mChatCompletion,\n\u001b[0;32m    956\u001b[0m         stream\u001b[38;5;241m=\u001b[39mstream \u001b[38;5;129;01mor\u001b[39;00m \u001b[38;5;28;01mFalse\u001b[39;00m,\n\u001b[0;32m    957\u001b[0m         stream_cls\u001b[38;5;241m=\u001b[39mStream[ChatCompletionChunk],\n\u001b[0;32m    958\u001b[0m     )\n",
      "File \u001b[1;32mc:\\Users\\91790\\anaconda3\\Lib\\site-packages\\openai\\_base_client.py:1242\u001b[0m, in \u001b[0;36mSyncAPIClient.post\u001b[1;34m(self, path, cast_to, body, options, files, stream, stream_cls)\u001b[0m\n\u001b[0;32m   1228\u001b[0m \u001b[38;5;28;01mdef\u001b[39;00m \u001b[38;5;21mpost\u001b[39m(\n\u001b[0;32m   1229\u001b[0m     \u001b[38;5;28mself\u001b[39m,\n\u001b[0;32m   1230\u001b[0m     path: \u001b[38;5;28mstr\u001b[39m,\n\u001b[1;32m   (...)\u001b[0m\n\u001b[0;32m   1237\u001b[0m     stream_cls: \u001b[38;5;28mtype\u001b[39m[_StreamT] \u001b[38;5;241m|\u001b[39m \u001b[38;5;28;01mNone\u001b[39;00m \u001b[38;5;241m=\u001b[39m \u001b[38;5;28;01mNone\u001b[39;00m,\n\u001b[0;32m   1238\u001b[0m ) \u001b[38;5;241m-\u001b[39m\u001b[38;5;241m>\u001b[39m ResponseT \u001b[38;5;241m|\u001b[39m _StreamT:\n\u001b[0;32m   1239\u001b[0m     opts \u001b[38;5;241m=\u001b[39m FinalRequestOptions\u001b[38;5;241m.\u001b[39mconstruct(\n\u001b[0;32m   1240\u001b[0m         method\u001b[38;5;241m=\u001b[39m\u001b[38;5;124m\"\u001b[39m\u001b[38;5;124mpost\u001b[39m\u001b[38;5;124m\"\u001b[39m, url\u001b[38;5;241m=\u001b[39mpath, json_data\u001b[38;5;241m=\u001b[39mbody, files\u001b[38;5;241m=\u001b[39mto_httpx_files(files), \u001b[38;5;241m*\u001b[39m\u001b[38;5;241m*\u001b[39moptions\n\u001b[0;32m   1241\u001b[0m     )\n\u001b[1;32m-> 1242\u001b[0m     \u001b[38;5;28;01mreturn\u001b[39;00m cast(ResponseT, \u001b[38;5;28mself\u001b[39m\u001b[38;5;241m.\u001b[39mrequest(cast_to, opts, stream\u001b[38;5;241m=\u001b[39mstream, stream_cls\u001b[38;5;241m=\u001b[39mstream_cls))\n",
      "File \u001b[1;32mc:\\Users\\91790\\anaconda3\\Lib\\site-packages\\openai\\_base_client.py:919\u001b[0m, in \u001b[0;36mSyncAPIClient.request\u001b[1;34m(self, cast_to, options, remaining_retries, stream, stream_cls)\u001b[0m\n\u001b[0;32m    916\u001b[0m \u001b[38;5;28;01melse\u001b[39;00m:\n\u001b[0;32m    917\u001b[0m     retries_taken \u001b[38;5;241m=\u001b[39m \u001b[38;5;241m0\u001b[39m\n\u001b[1;32m--> 919\u001b[0m \u001b[38;5;28;01mreturn\u001b[39;00m \u001b[38;5;28mself\u001b[39m\u001b[38;5;241m.\u001b[39m_request(\n\u001b[0;32m    920\u001b[0m     cast_to\u001b[38;5;241m=\u001b[39mcast_to,\n\u001b[0;32m    921\u001b[0m     options\u001b[38;5;241m=\u001b[39moptions,\n\u001b[0;32m    922\u001b[0m     stream\u001b[38;5;241m=\u001b[39mstream,\n\u001b[0;32m    923\u001b[0m     stream_cls\u001b[38;5;241m=\u001b[39mstream_cls,\n\u001b[0;32m    924\u001b[0m     retries_taken\u001b[38;5;241m=\u001b[39mretries_taken,\n\u001b[0;32m    925\u001b[0m )\n",
      "File \u001b[1;32mc:\\Users\\91790\\anaconda3\\Lib\\site-packages\\openai\\_base_client.py:979\u001b[0m, in \u001b[0;36mSyncAPIClient._request\u001b[1;34m(self, cast_to, options, retries_taken, stream, stream_cls)\u001b[0m\n\u001b[0;32m    976\u001b[0m log\u001b[38;5;241m.\u001b[39mdebug(\u001b[38;5;124m\"\u001b[39m\u001b[38;5;124mEncountered Exception\u001b[39m\u001b[38;5;124m\"\u001b[39m, exc_info\u001b[38;5;241m=\u001b[39m\u001b[38;5;28;01mTrue\u001b[39;00m)\n\u001b[0;32m    978\u001b[0m \u001b[38;5;28;01mif\u001b[39;00m remaining_retries \u001b[38;5;241m>\u001b[39m \u001b[38;5;241m0\u001b[39m:\n\u001b[1;32m--> 979\u001b[0m     \u001b[38;5;28;01mreturn\u001b[39;00m \u001b[38;5;28mself\u001b[39m\u001b[38;5;241m.\u001b[39m_retry_request(\n\u001b[0;32m    980\u001b[0m         input_options,\n\u001b[0;32m    981\u001b[0m         cast_to,\n\u001b[0;32m    982\u001b[0m         retries_taken\u001b[38;5;241m=\u001b[39mretries_taken,\n\u001b[0;32m    983\u001b[0m         stream\u001b[38;5;241m=\u001b[39mstream,\n\u001b[0;32m    984\u001b[0m         stream_cls\u001b[38;5;241m=\u001b[39mstream_cls,\n\u001b[0;32m    985\u001b[0m         response_headers\u001b[38;5;241m=\u001b[39m\u001b[38;5;28;01mNone\u001b[39;00m,\n\u001b[0;32m    986\u001b[0m     )\n\u001b[0;32m    988\u001b[0m log\u001b[38;5;241m.\u001b[39mdebug(\u001b[38;5;124m\"\u001b[39m\u001b[38;5;124mRaising connection error\u001b[39m\u001b[38;5;124m\"\u001b[39m)\n\u001b[0;32m    989\u001b[0m \u001b[38;5;28;01mraise\u001b[39;00m APIConnectionError(request\u001b[38;5;241m=\u001b[39mrequest) \u001b[38;5;28;01mfrom\u001b[39;00m \u001b[38;5;21;01merr\u001b[39;00m\n",
      "File \u001b[1;32mc:\\Users\\91790\\anaconda3\\Lib\\site-packages\\openai\\_base_client.py:1057\u001b[0m, in \u001b[0;36mSyncAPIClient._retry_request\u001b[1;34m(self, options, cast_to, retries_taken, response_headers, stream, stream_cls)\u001b[0m\n\u001b[0;32m   1053\u001b[0m \u001b[38;5;66;03m# In a synchronous context we are blocking the entire thread. Up to the library user to run the client in a\u001b[39;00m\n\u001b[0;32m   1054\u001b[0m \u001b[38;5;66;03m# different thread if necessary.\u001b[39;00m\n\u001b[0;32m   1055\u001b[0m time\u001b[38;5;241m.\u001b[39msleep(timeout)\n\u001b[1;32m-> 1057\u001b[0m \u001b[38;5;28;01mreturn\u001b[39;00m \u001b[38;5;28mself\u001b[39m\u001b[38;5;241m.\u001b[39m_request(\n\u001b[0;32m   1058\u001b[0m     options\u001b[38;5;241m=\u001b[39moptions,\n\u001b[0;32m   1059\u001b[0m     cast_to\u001b[38;5;241m=\u001b[39mcast_to,\n\u001b[0;32m   1060\u001b[0m     retries_taken\u001b[38;5;241m=\u001b[39mretries_taken \u001b[38;5;241m+\u001b[39m \u001b[38;5;241m1\u001b[39m,\n\u001b[0;32m   1061\u001b[0m     stream\u001b[38;5;241m=\u001b[39mstream,\n\u001b[0;32m   1062\u001b[0m     stream_cls\u001b[38;5;241m=\u001b[39mstream_cls,\n\u001b[0;32m   1063\u001b[0m )\n",
      "File \u001b[1;32mc:\\Users\\91790\\anaconda3\\Lib\\site-packages\\openai\\_base_client.py:979\u001b[0m, in \u001b[0;36mSyncAPIClient._request\u001b[1;34m(self, cast_to, options, retries_taken, stream, stream_cls)\u001b[0m\n\u001b[0;32m    976\u001b[0m log\u001b[38;5;241m.\u001b[39mdebug(\u001b[38;5;124m\"\u001b[39m\u001b[38;5;124mEncountered Exception\u001b[39m\u001b[38;5;124m\"\u001b[39m, exc_info\u001b[38;5;241m=\u001b[39m\u001b[38;5;28;01mTrue\u001b[39;00m)\n\u001b[0;32m    978\u001b[0m \u001b[38;5;28;01mif\u001b[39;00m remaining_retries \u001b[38;5;241m>\u001b[39m \u001b[38;5;241m0\u001b[39m:\n\u001b[1;32m--> 979\u001b[0m     \u001b[38;5;28;01mreturn\u001b[39;00m \u001b[38;5;28mself\u001b[39m\u001b[38;5;241m.\u001b[39m_retry_request(\n\u001b[0;32m    980\u001b[0m         input_options,\n\u001b[0;32m    981\u001b[0m         cast_to,\n\u001b[0;32m    982\u001b[0m         retries_taken\u001b[38;5;241m=\u001b[39mretries_taken,\n\u001b[0;32m    983\u001b[0m         stream\u001b[38;5;241m=\u001b[39mstream,\n\u001b[0;32m    984\u001b[0m         stream_cls\u001b[38;5;241m=\u001b[39mstream_cls,\n\u001b[0;32m    985\u001b[0m         response_headers\u001b[38;5;241m=\u001b[39m\u001b[38;5;28;01mNone\u001b[39;00m,\n\u001b[0;32m    986\u001b[0m     )\n\u001b[0;32m    988\u001b[0m log\u001b[38;5;241m.\u001b[39mdebug(\u001b[38;5;124m\"\u001b[39m\u001b[38;5;124mRaising connection error\u001b[39m\u001b[38;5;124m\"\u001b[39m)\n\u001b[0;32m    989\u001b[0m \u001b[38;5;28;01mraise\u001b[39;00m APIConnectionError(request\u001b[38;5;241m=\u001b[39mrequest) \u001b[38;5;28;01mfrom\u001b[39;00m \u001b[38;5;21;01merr\u001b[39;00m\n",
      "File \u001b[1;32mc:\\Users\\91790\\anaconda3\\Lib\\site-packages\\openai\\_base_client.py:1057\u001b[0m, in \u001b[0;36mSyncAPIClient._retry_request\u001b[1;34m(self, options, cast_to, retries_taken, response_headers, stream, stream_cls)\u001b[0m\n\u001b[0;32m   1053\u001b[0m \u001b[38;5;66;03m# In a synchronous context we are blocking the entire thread. Up to the library user to run the client in a\u001b[39;00m\n\u001b[0;32m   1054\u001b[0m \u001b[38;5;66;03m# different thread if necessary.\u001b[39;00m\n\u001b[0;32m   1055\u001b[0m time\u001b[38;5;241m.\u001b[39msleep(timeout)\n\u001b[1;32m-> 1057\u001b[0m \u001b[38;5;28;01mreturn\u001b[39;00m \u001b[38;5;28mself\u001b[39m\u001b[38;5;241m.\u001b[39m_request(\n\u001b[0;32m   1058\u001b[0m     options\u001b[38;5;241m=\u001b[39moptions,\n\u001b[0;32m   1059\u001b[0m     cast_to\u001b[38;5;241m=\u001b[39mcast_to,\n\u001b[0;32m   1060\u001b[0m     retries_taken\u001b[38;5;241m=\u001b[39mretries_taken \u001b[38;5;241m+\u001b[39m \u001b[38;5;241m1\u001b[39m,\n\u001b[0;32m   1061\u001b[0m     stream\u001b[38;5;241m=\u001b[39mstream,\n\u001b[0;32m   1062\u001b[0m     stream_cls\u001b[38;5;241m=\u001b[39mstream_cls,\n\u001b[0;32m   1063\u001b[0m )\n",
      "File \u001b[1;32mc:\\Users\\91790\\anaconda3\\Lib\\site-packages\\openai\\_base_client.py:989\u001b[0m, in \u001b[0;36mSyncAPIClient._request\u001b[1;34m(self, cast_to, options, retries_taken, stream, stream_cls)\u001b[0m\n\u001b[0;32m    979\u001b[0m         \u001b[38;5;28;01mreturn\u001b[39;00m \u001b[38;5;28mself\u001b[39m\u001b[38;5;241m.\u001b[39m_retry_request(\n\u001b[0;32m    980\u001b[0m             input_options,\n\u001b[0;32m    981\u001b[0m             cast_to,\n\u001b[1;32m   (...)\u001b[0m\n\u001b[0;32m    985\u001b[0m             response_headers\u001b[38;5;241m=\u001b[39m\u001b[38;5;28;01mNone\u001b[39;00m,\n\u001b[0;32m    986\u001b[0m         )\n\u001b[0;32m    988\u001b[0m     log\u001b[38;5;241m.\u001b[39mdebug(\u001b[38;5;124m\"\u001b[39m\u001b[38;5;124mRaising connection error\u001b[39m\u001b[38;5;124m\"\u001b[39m)\n\u001b[1;32m--> 989\u001b[0m     \u001b[38;5;28;01mraise\u001b[39;00m APIConnectionError(request\u001b[38;5;241m=\u001b[39mrequest) \u001b[38;5;28;01mfrom\u001b[39;00m \u001b[38;5;21;01merr\u001b[39;00m\n\u001b[0;32m    991\u001b[0m log\u001b[38;5;241m.\u001b[39mdebug(\n\u001b[0;32m    992\u001b[0m     \u001b[38;5;124m'\u001b[39m\u001b[38;5;124mHTTP Response: \u001b[39m\u001b[38;5;132;01m%s\u001b[39;00m\u001b[38;5;124m \u001b[39m\u001b[38;5;132;01m%s\u001b[39;00m\u001b[38;5;124m \u001b[39m\u001b[38;5;124m\"\u001b[39m\u001b[38;5;132;01m%i\u001b[39;00m\u001b[38;5;124m \u001b[39m\u001b[38;5;132;01m%s\u001b[39;00m\u001b[38;5;124m\"\u001b[39m\u001b[38;5;124m \u001b[39m\u001b[38;5;132;01m%s\u001b[39;00m\u001b[38;5;124m'\u001b[39m,\n\u001b[0;32m    993\u001b[0m     request\u001b[38;5;241m.\u001b[39mmethod,\n\u001b[1;32m   (...)\u001b[0m\n\u001b[0;32m    997\u001b[0m     response\u001b[38;5;241m.\u001b[39mheaders,\n\u001b[0;32m    998\u001b[0m )\n\u001b[0;32m    999\u001b[0m log\u001b[38;5;241m.\u001b[39mdebug(\u001b[38;5;124m\"\u001b[39m\u001b[38;5;124mrequest_id: \u001b[39m\u001b[38;5;132;01m%s\u001b[39;00m\u001b[38;5;124m\"\u001b[39m, response\u001b[38;5;241m.\u001b[39mheaders\u001b[38;5;241m.\u001b[39mget(\u001b[38;5;124m\"\u001b[39m\u001b[38;5;124mx-request-id\u001b[39m\u001b[38;5;124m\"\u001b[39m))\n",
      "\u001b[1;31mAPIConnectionError\u001b[0m: Connection error."
     ]
    }
   ],
   "source": [
    "esponse = client.chat.completions.create(\n",
    "            model = \"gpt-4o-mini\",\n",
    "            messages = [\n",
    "                {\n",
    "                    \"role\": \"user\", \n",
    "                    \"content\": \"how are you\"\n",
    "                }\n",
    "            ]\n",
    "        )"
   ]
  },
  {
   "cell_type": "code",
   "execution_count": null,
   "metadata": {},
   "outputs": [],
   "source": [
    "response"
   ]
  }
 ],
 "metadata": {
  "kernelspec": {
   "display_name": "base",
   "language": "python",
   "name": "python3"
  },
  "language_info": {
   "codemirror_mode": {
    "name": "ipython",
    "version": 3
   },
   "file_extension": ".py",
   "mimetype": "text/x-python",
   "name": "python",
   "nbconvert_exporter": "python",
   "pygments_lexer": "ipython3",
   "version": "3.11.5"
  }
 },
 "nbformat": 4,
 "nbformat_minor": 2
}
