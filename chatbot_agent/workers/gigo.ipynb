{
 "cells": [
  {
   "cell_type": "code",
   "execution_count": 2,
   "metadata": {},
   "outputs": [],
   "source": [
    "from langchain_text_splitters import MarkdownHeaderTextSplitter"
   ]
  },
  {
   "cell_type": "code",
   "execution_count": 4,
   "metadata": {},
   "outputs": [],
   "source": [
    "with open(\"data.txt\", \"r\") as f:\n",
    "    data = f.read()"
   ]
  },
  {
   "cell_type": "code",
   "execution_count": 7,
   "metadata": {},
   "outputs": [],
   "source": [
    "chunks = data.split(\">>>>\")"
   ]
  },
  {
   "cell_type": "code",
   "execution_count": 8,
   "metadata": {},
   "outputs": [
    {
     "data": {
      "text/plain": [
       "['',\n",
       " '\\nThe Original Report of the patient is : \\n\\n1IAN M KRONISH, MD, MPH \\nAssistant Professor of Medicine \\n \\nCenter for Behavioral Cardiovascular \\nHealth \\n622 West 168th Street, PH9-311 \\nNew York, NY 10032 \\n212.342.1335 \\n212.342.3441 Fax \\nIk2293@columbia.edu \\nwww.cumc.columbia.edu/cbch \\n   February 10, 2016   Re: ABPM for John Doe, MRN: 1234567  Dear Dr. Jane Doe:  You referred your patient John Doe for ambulatory blood pressure monitoring (ABPM). Here is a \\nbrief summary and interpretation of your patient’s results. A more detailed report is attached.   Reason for Referral: Suspected White-Coat Hypertension \\nTotal Number of Blood Pressure Readings: 35 (minimum to be valid >10) % Valid Readings: 85% (optimal >80%)  Quality of Study: Adequate  \\nSummary of Blood Pressure Readings:  Period Patient’s Blood Pressure Normal Blood Pressure \\nDaytime (awake) 142/87 mmHg <135/85 mmHg \\nNighttime (asleep) 125/75 mmHg <120/70 mmHg \\n24-hour 135/85 mmHg <130/80 mmHg \\n  Interpretation:  \\nElevated ambulatory blood pressure consistent with sustained hypertension.  \\n Recommendation: \\nInitiate treatment for hypertension. \\n Please do not hesitate to contact me if you have any questions regarding this report.  Kind regards,    Ian Kronish, MD, MPH, FAHA Director, ActiveBP 212-342-1335 ik2293@columbia.edu  \\n\\n',\n",
       " \"\\nWhats in my report ? Is everything okay in the report ? Whats wrong in the report ? What are the Abnormalities \\nThe Summarized Report of the patient is: \\n1. Findings:\\n- The patient, John Doe, underwent ambulatory blood pressure monitoring (ABPM) for suspected White-Coat Hypertension.\\n- A total of 35 blood pressure readings were taken, with 85% of them being valid.    \\n- The summary of blood pressure readings showed elevated values during the daytime, nighttime, and over a 24-hour period.\\n\\n2. Abnormal values/Health concerns:\\n- Daytime blood pressure was 142/87 mmHg, which is higher than the normal range of <135/85 mmHg.\\n- Nighttime blood pressure was 125/75 mmHg, exceeding the normal range of <120/70 mmHg.\\n- The 24-hour blood pressure was 135/85 mmHg, higher than the normal range of <130/80 mmHg.\\n- The interpretation suggests elevated ambulatory blood pressure consistent with sustained hypertension, indicating the need for treatment.\\n\\n3. Explanation of complex terms:\\n- Ambulatory blood pressure monitoring (ABPM): A test that measures blood pressure at regular intervals over a 24-hour period, providing a more accurate assessment of blood pressure variations throughout the day and night.\\n- White-Coat Hypertension: A condition where a person's blood pressure is higher in a medical setting (doctor's office) than in other settings, leading to a false diagnosis of hypertension.\\n- Sustained hypertension: Persistent high blood pressure readings over time, indicating a need for ongoing treatment to manage blood pressure levels.\\n\\n\\n\",\n",
       " \"\\nWhats in the chest x ray result ? is the medical image okay ? medical image report ? What is found in Chest X ray ?\\nChest X ray results: \\n{'Consolidation': 97.86, 'Edema': 100.0, 'Infiltration': 100.0, 'Mass': 99.74, 'Pneumonia': 97.34} \\n\\n\\n\",\n",
       " ' \\nAll information about Ibuprofen \\n{\\n    \"medication_name\": \"Ibuprofen\",\\n    \"generic_name\": \"ibuprofen\",\\n    \"ingredients\": [\\n        \"ibuprofen\"\\n    ],\\n    \"brand_names\": [\\n        \"Advil\",\\n        \"Genpril\",\\n        \"IBU\",\\n        \"Midol IB\",\\n        \"Motrin IB\",\\n        \"Proprinal\",\\n        \"Smart Sense Children\\'s Ibuprofen\"\\n    ],\\n    \"medicine_use\": \"Ibuprofen is used to reduce fever and treat pain or inflammation caused by many conditions such as headache, toothache, back pain, arthritis, menstrual cramps, or minor injury.\",\\n    \"common_side_effects\": [\\n        \"nausea\",\\n        \"vomiting\",\\n        \"gas\",\\n        \"bleeding\",\\n        \"dizziness\",\\n        \"headache\"\\n    ],\\n    \"severe_side_effects\": [\\n        \"stomach or intestinal bleeding\",\\n        \"heart attack\",\\n        \"stroke\",\\n        \"liver problems\",\\n        \"kidney problems\",\\n        \"allergic reaction\",\\n        \"severe skin reaction\",\\n        \"vision changes\",\\n        \"anemia\"\\n    ],\\n    \"immediate_attention_side_effects\": [\\n        \"signs of an allergic reaction to ibuprofen\",\\n        \"signs of a heart attack or stroke\",\\n        \"signs of stomach bleeding\",\\n        \"liver problems\",\\n        \"kidney problems\"\\n    ],\\n    \"how_to_use\": \"Use ibuprofen exactly as directed on the label, or as prescribed by your doctor. Use the lowest dose that is effective in treating your condition. The maximum amount of ibuprofen for adults is 800 milligrams per dose or 3200 mg per day (4 maximum doses).\",\\n    \"storage_instructions\": \"Store at room temperature away from moisture and heat. Do not allow the liquid medicine to freeze.\",\\n    \"mechanism_of_action\": \"It works by reducing hormones that cause inflammation and pain in the body.\",\\n    \"warnings_precautions\": [\\n        \"Can increase risk of fatal heart attack or stroke.\",\\n        \"Can cause stomach or intestinal bleeding, which can be fatal.\",\\n        \"Do not use before or after heart bypass surgery.\"\\n    ],\\n    \"alternative_medicines\": [\\n        \"Naproxen\"\\n    ],\\n    \"natural_alternatives\": [\\n        \"missing\"\\n    ],\\n    \"regulatory_approval\": \"Rx and/or OTC\",\\n    \"drug_interactions\": \"Ask your doctor before using ibuprofen if you take an antidepressant. Potential interactions with other medications including blood thinners and certain antidepressants.\",\\n    \"forms_variants\": [\\n        \"oral capsule (200 mg)\",\\n        \"oral suspension (100 mg/5 mL; 50 mg/1.25 mL)\",\\n        \"oral tablet (100 mg; 200 mg; 400 mg; 600 mg; 800 mg)\",\\n        \"oral tablet, chewable (100 mg; 50 mg)\"\\n    ],\\n    \"prescription_required\": null,\\n    \"contraindications\": [\\n        \"allergic to ibuprofen\",\\n        \"history of asthma attack after taking aspirin or NSAID\",\\n        \"stomach ulcers or bleeding\",\\n        \"liver disease\",\\n        \"kidney disease\",\\n        \"if taking aspirin to prevent heart attack or stroke\"\\n    ],\\n    \"drug_class\": \"Nonsteroidal anti-inflammatory drugs\",\\n    \"pregnancy_lactation\": \"Ask a doctor before using this medicine if you are pregnant or breastfeeding. Taking an NSAID during the last 20 weeks of pregnancy can cause serious heart or kidney problems in the unborn baby and possible complications with your pregnancy.\",\\n    \"dosage_forms\": [\\n        \"oral capsule\",\\n        \"oral suspension\",\\n        \"oral tablet\",\\n        \"chewable tablet\"\\n    ],\\n    \"special_populations_children\": \"Do not give ibuprofen to a child younger than 6 months old without the advice of a doctor.\",\\n    \"special_populations_elderly\": \"missing\",\\n    \"special_populations_renal_impairment\": \"missing\",\\n    \"special_populations_hepatic_impairment\": \"missing\",\\n    \"overdose_information\": \"Seek emergency medical attention or call the Poison Help line at 1-800-222-1222. Overdose symptoms may include nausea, vomiting, stomach pain, drowsiness, black or bloody stools, coughing up blood, shallow breathing, fainting or coma.\",\\n    \"reviews_rating\": \"7.4 / 10\"\\n}\\n\\n',\n",
       " '\\nAll information about paracetamol | \\n{\\n    \"medication_name\": \"Paracetamol\",\\n    \"generic_name\": \"paracetamol\",\\n    \"ingredients\": [\\n        \"paracetamol\"\\n    ],\\n    \"brand_names\": [\\n        \"Panadol\",\\n        \"Calpol\",\\n        \"Tylenol\",\\n        \"Alvedon\"\\n    ],\\n    \"medicine_use\": \"used to temporarily relieve mild-to-moderate pain and fever\",\\n    \"common_side_effects\": [\\n        \"Redness or soreness in or around the rectum\"\\n    ],\\n    \"severe_side_effects\": [\\n        \"Allergic reactions, skin rashes, itching or hives, swelling of the throat, tongue or face, shortness of breath or wheezing\",\\n        \"Skin rash or peeling, or mouth ulcers\",\\n        \"Breathing problems\",\\n        \"Unexplained bruising or bleeding, becoming unusually tired, getting more infections than usual\",\\n        \"Liver problems, nausea, sudden weight loss, loss of appetite, yellowing of the eyes and skin\"\\n    ],\\n    \"immediate_attention_side_effects\": [\\n        \"paleness\",\\n        \"nausea\",\\n        \"sweating\",\\n        \"vomiting\",\\n        \"loss of appetite\",\\n        \"abdominal pain\"\\n    ],\\n    \"how_to_use\": \"Always use exactly as your doctor or pharmacist tells you to. Do not take more than the recommended dose. Check the instructions for the paracetamol product you have. Paracetamol may be taken every 4 to 6 hours. Leave at least 4 hours between doses. Do not take more than four doses in 24 hours. Do not take for more than 3 days, unless your doctor tells you to. Contact your healthcare professional if your symptoms get worse or do not improve.\",\\n    \"storage_instructions\": \"Keep out of sight and reach of children; do not use the medicine after the expiry date; store below 77\\\\u00b0F (25\\\\u00b0C) unless instructed otherwise; store paracetamol suppositories in a cool, dry place below 77\\\\u00b0F (25\\\\u00b0C) and out of direct sunlight; store paracetamol effervescent tablets below 86\\\\u00b0F (30\\\\u00b0C); store paracetamol solution for infusion below 86\\\\u00b0F (30\\\\u00b0C) and do not refrigerate or freeze.\",\\n    \"mechanism_of_action\": \"thought to work by blocking chemical messengers in the brain that let us know when we\\'re in pain and by affecting the chemical messengers that regulate our body temperature; inhibits the production of prostaglandins\",\\n    \"warnings_precautions\": [\\n        \"Do not take paracetamol if you are allergic to it or any of the other ingredients.\",\\n        \"May be more sensitive to side effects if consuming large amounts of alcohol.\",\\n        \"Contact your doctor immediately if symptoms of metabolic acidosis occur.\"\\n    ],\\n    \"alternative_medicines\": [\\n        \"Tramadol\",\\n        \"Naproxen\",\\n        \"Hydroxyzine\",\\n        \"Cyclobenzaprine\",\\n        \"Meloxicam\",\\n        \"Oxycodone\",\\n        \"Diclofenac\"\\n    ],\\n    \"natural_alternatives\": [\\n        \"missing\"\\n    ],\\n    \"regulatory_approval\": \"available over-the-counter (OTC) and as a prescription medication\",\\n    \"drug_interactions\": \"Blood thinning medications such as warfarin; medications for nausea such as metoclopramide; cholestyramine for high cholesterol; lamotrigine for epilepsy; isoniazide for tuberculosis; aspirin; barbiturates and tricyclic antidepressants; probenecid; chloramphenicol; zidovudine; flucloxacillin\",\\n    \"forms_variants\": [\\n        \"effervescent tablet\",\\n        \"intravenous (infusion) injection\",\\n        \"orally disintegrating tablet\",\\n        \"oral capsule\",\\n        \"oral powder\",\\n        \"oral suspension\",\\n        \"oral tablet\",\\n        \"suppository\"\\n    ],\\n    \"prescription_required\": false,\\n    \"contraindications\": [\\n        \"allergy to paracetamol or any other ingredient\",\\n        \"severe infection\",\\n        \"asthma sensitive to aspirin\"\\n    ],\\n    \"drug_class\": \"Miscellaneous analgesics\",\\n    \"pregnancy_lactation\": \"can be used during pregnancy; can be taken if breastfeeding\",\\n    \"dosage_forms\": [\\n        \"tablets\",\\n        \"capsules\",\\n        \"oral suspension\",\\n        \"suppositories\",\\n        \"effervescent tablets\",\\n        \"solution for infusion\",\\n        \"orally disintegrating tablets\",\\n        \"powder\"\\n    ],\\n    \"special_populations_children\": \"check with your doctor or pharmacist about the correct dose based on child\\'s age and weight.\",\\n    \"special_populations_elderly\": \"missing\",\\n    \"special_populations_renal_impairment\": \"missing\",\\n    \"special_populations_hepatic_impairment\": \"use caution in patients with liver problems, may need to avoid or limit use\",\\n    \"overdose_information\": \"get medical help immediately; symptoms may include paleness, nausea, sweating, vomiting, loss of appetite, and abdominal pain; quick medical attention is critical even if they seem well.\",\\n    \"reviews_rating\": \"7.0 / 10\"\\n}\\n\\n',\n",
       " \"\\nPrices of medicines | Cost of medicines | How much these comes at ? Where can i get these ? Links on the internet ? Where to buy ? \\n\\n\\n[{'name': 'BRUFEN 400MG TABLET', 'price': '16.99', 'quantity': '15S', 'url': 'https://www.practo.com/medicine-info/ibuprofen-395-api'}, {'name': 'ibuprofen', 'price': 'NA', 'quantity': 'NA', 'url': 'https://www.netmeds.com/prescriptions/337279?srsltid=AfmBOorjMq-eX4UVqchmL_Md8V6dSJYVITX11avgnk6gXsWiuMwTc4zE'}, \\n {'name': 'Ibuprofen', 'price': '4.00', 'quantity': '10 Tablets', 'url': 'https://pharmeasy.in/online-medicine-order/ibuprofen-alk-250mg-strip-of-250-tablets-195197'}, {'name': 'Ibuprofen', 'price': '66.88', 'quantity': '250 Tablets', 'url': 'https://www.apollopharmacy.in/medicine/ibuprofen-400-mg-tablet-10-s?srsltid=AfmBOoqLbAtMxW7PUsK-rUcomvPTyf4NR-mK5YwVCU1zIY4IeCDBh7-8'},\\n  {'name': 'Ibuprofen 400 mg Tablet', 'price': 'NA', 'quantity': '10s', 'url': 'https://www.medkart.in/order-medicine/brufen-400mg-tablet-15s'}]\\n\\n\\n[{'name': 'PARACETAMOL 500MG TABLET', 'price': '17.94', 'quantity': '20S', 'url': 'https://www.practo.com/medicine-info/paracetamol-219-api'}, {'name': 'paracetamol', 'price': 'NA', 'quantity': 'NA', 'url': 'https://www.netmeds.com/prescriptions/paracetamol-tablet-10-s'}, {'name': 'paracetamol', 'price': 'NA', \\n'quantity': 'NA', 'url': 'https://pharmeasy.in/online-medicine-order/paracetamol-cipla-500-mg-tablet-10-198467'}, {'name': 'PARACETAMOL Tablet', 'price': '10.08', 'quantity': '10 Tablets', 'url': 'https://www.apollopharmacy.in/salt/Paracetamol?srsltid=AfmBOopA2iEFVNA2JqQ8h1keENoif1l8Ok6H9YPoo3omyhDA0SyPkgvU'}, \\n{'name': 'Paracetamol 500mg Strip Of 10 Tablets Cipla', 'price': '7.62', 'quantity': '10 Tablets', 'url': 'https://www.medkart.in/order-medicine/paracetamol-500mg-tablet-20s'}]\"]"
      ]
     },
     "execution_count": 8,
     "metadata": {},
     "output_type": "execute_result"
    }
   ],
   "source": [
    "chunks"
   ]
  },
  {
   "cell_type": "code",
   "execution_count": 9,
   "metadata": {},
   "outputs": [],
   "source": [
    "# if any element in this list is empty string, remove it \n",
    "chunks = [chunk for chunk in chunks if chunk != '']"
   ]
  },
  {
   "cell_type": "code",
   "execution_count": 10,
   "metadata": {},
   "outputs": [
    {
     "data": {
      "text/plain": [
       "['\\nThe Original Report of the patient is : \\n\\n1IAN M KRONISH, MD, MPH \\nAssistant Professor of Medicine \\n \\nCenter for Behavioral Cardiovascular \\nHealth \\n622 West 168th Street, PH9-311 \\nNew York, NY 10032 \\n212.342.1335 \\n212.342.3441 Fax \\nIk2293@columbia.edu \\nwww.cumc.columbia.edu/cbch \\n   February 10, 2016   Re: ABPM for John Doe, MRN: 1234567  Dear Dr. Jane Doe:  You referred your patient John Doe for ambulatory blood pressure monitoring (ABPM). Here is a \\nbrief summary and interpretation of your patient’s results. A more detailed report is attached.   Reason for Referral: Suspected White-Coat Hypertension \\nTotal Number of Blood Pressure Readings: 35 (minimum to be valid >10) % Valid Readings: 85% (optimal >80%)  Quality of Study: Adequate  \\nSummary of Blood Pressure Readings:  Period Patient’s Blood Pressure Normal Blood Pressure \\nDaytime (awake) 142/87 mmHg <135/85 mmHg \\nNighttime (asleep) 125/75 mmHg <120/70 mmHg \\n24-hour 135/85 mmHg <130/80 mmHg \\n  Interpretation:  \\nElevated ambulatory blood pressure consistent with sustained hypertension.  \\n Recommendation: \\nInitiate treatment for hypertension. \\n Please do not hesitate to contact me if you have any questions regarding this report.  Kind regards,    Ian Kronish, MD, MPH, FAHA Director, ActiveBP 212-342-1335 ik2293@columbia.edu  \\n\\n',\n",
       " \"\\nWhats in my report ? Is everything okay in the report ? Whats wrong in the report ? What are the Abnormalities \\nThe Summarized Report of the patient is: \\n1. Findings:\\n- The patient, John Doe, underwent ambulatory blood pressure monitoring (ABPM) for suspected White-Coat Hypertension.\\n- A total of 35 blood pressure readings were taken, with 85% of them being valid.    \\n- The summary of blood pressure readings showed elevated values during the daytime, nighttime, and over a 24-hour period.\\n\\n2. Abnormal values/Health concerns:\\n- Daytime blood pressure was 142/87 mmHg, which is higher than the normal range of <135/85 mmHg.\\n- Nighttime blood pressure was 125/75 mmHg, exceeding the normal range of <120/70 mmHg.\\n- The 24-hour blood pressure was 135/85 mmHg, higher than the normal range of <130/80 mmHg.\\n- The interpretation suggests elevated ambulatory blood pressure consistent with sustained hypertension, indicating the need for treatment.\\n\\n3. Explanation of complex terms:\\n- Ambulatory blood pressure monitoring (ABPM): A test that measures blood pressure at regular intervals over a 24-hour period, providing a more accurate assessment of blood pressure variations throughout the day and night.\\n- White-Coat Hypertension: A condition where a person's blood pressure is higher in a medical setting (doctor's office) than in other settings, leading to a false diagnosis of hypertension.\\n- Sustained hypertension: Persistent high blood pressure readings over time, indicating a need for ongoing treatment to manage blood pressure levels.\\n\\n\\n\",\n",
       " \"\\nWhats in the chest x ray result ? is the medical image okay ? medical image report ? What is found in Chest X ray ?\\nChest X ray results: \\n{'Consolidation': 97.86, 'Edema': 100.0, 'Infiltration': 100.0, 'Mass': 99.74, 'Pneumonia': 97.34} \\n\\n\\n\",\n",
       " ' \\nAll information about Ibuprofen \\n{\\n    \"medication_name\": \"Ibuprofen\",\\n    \"generic_name\": \"ibuprofen\",\\n    \"ingredients\": [\\n        \"ibuprofen\"\\n    ],\\n    \"brand_names\": [\\n        \"Advil\",\\n        \"Genpril\",\\n        \"IBU\",\\n        \"Midol IB\",\\n        \"Motrin IB\",\\n        \"Proprinal\",\\n        \"Smart Sense Children\\'s Ibuprofen\"\\n    ],\\n    \"medicine_use\": \"Ibuprofen is used to reduce fever and treat pain or inflammation caused by many conditions such as headache, toothache, back pain, arthritis, menstrual cramps, or minor injury.\",\\n    \"common_side_effects\": [\\n        \"nausea\",\\n        \"vomiting\",\\n        \"gas\",\\n        \"bleeding\",\\n        \"dizziness\",\\n        \"headache\"\\n    ],\\n    \"severe_side_effects\": [\\n        \"stomach or intestinal bleeding\",\\n        \"heart attack\",\\n        \"stroke\",\\n        \"liver problems\",\\n        \"kidney problems\",\\n        \"allergic reaction\",\\n        \"severe skin reaction\",\\n        \"vision changes\",\\n        \"anemia\"\\n    ],\\n    \"immediate_attention_side_effects\": [\\n        \"signs of an allergic reaction to ibuprofen\",\\n        \"signs of a heart attack or stroke\",\\n        \"signs of stomach bleeding\",\\n        \"liver problems\",\\n        \"kidney problems\"\\n    ],\\n    \"how_to_use\": \"Use ibuprofen exactly as directed on the label, or as prescribed by your doctor. Use the lowest dose that is effective in treating your condition. The maximum amount of ibuprofen for adults is 800 milligrams per dose or 3200 mg per day (4 maximum doses).\",\\n    \"storage_instructions\": \"Store at room temperature away from moisture and heat. Do not allow the liquid medicine to freeze.\",\\n    \"mechanism_of_action\": \"It works by reducing hormones that cause inflammation and pain in the body.\",\\n    \"warnings_precautions\": [\\n        \"Can increase risk of fatal heart attack or stroke.\",\\n        \"Can cause stomach or intestinal bleeding, which can be fatal.\",\\n        \"Do not use before or after heart bypass surgery.\"\\n    ],\\n    \"alternative_medicines\": [\\n        \"Naproxen\"\\n    ],\\n    \"natural_alternatives\": [\\n        \"missing\"\\n    ],\\n    \"regulatory_approval\": \"Rx and/or OTC\",\\n    \"drug_interactions\": \"Ask your doctor before using ibuprofen if you take an antidepressant. Potential interactions with other medications including blood thinners and certain antidepressants.\",\\n    \"forms_variants\": [\\n        \"oral capsule (200 mg)\",\\n        \"oral suspension (100 mg/5 mL; 50 mg/1.25 mL)\",\\n        \"oral tablet (100 mg; 200 mg; 400 mg; 600 mg; 800 mg)\",\\n        \"oral tablet, chewable (100 mg; 50 mg)\"\\n    ],\\n    \"prescription_required\": null,\\n    \"contraindications\": [\\n        \"allergic to ibuprofen\",\\n        \"history of asthma attack after taking aspirin or NSAID\",\\n        \"stomach ulcers or bleeding\",\\n        \"liver disease\",\\n        \"kidney disease\",\\n        \"if taking aspirin to prevent heart attack or stroke\"\\n    ],\\n    \"drug_class\": \"Nonsteroidal anti-inflammatory drugs\",\\n    \"pregnancy_lactation\": \"Ask a doctor before using this medicine if you are pregnant or breastfeeding. Taking an NSAID during the last 20 weeks of pregnancy can cause serious heart or kidney problems in the unborn baby and possible complications with your pregnancy.\",\\n    \"dosage_forms\": [\\n        \"oral capsule\",\\n        \"oral suspension\",\\n        \"oral tablet\",\\n        \"chewable tablet\"\\n    ],\\n    \"special_populations_children\": \"Do not give ibuprofen to a child younger than 6 months old without the advice of a doctor.\",\\n    \"special_populations_elderly\": \"missing\",\\n    \"special_populations_renal_impairment\": \"missing\",\\n    \"special_populations_hepatic_impairment\": \"missing\",\\n    \"overdose_information\": \"Seek emergency medical attention or call the Poison Help line at 1-800-222-1222. Overdose symptoms may include nausea, vomiting, stomach pain, drowsiness, black or bloody stools, coughing up blood, shallow breathing, fainting or coma.\",\\n    \"reviews_rating\": \"7.4 / 10\"\\n}\\n\\n',\n",
       " '\\nAll information about paracetamol | \\n{\\n    \"medication_name\": \"Paracetamol\",\\n    \"generic_name\": \"paracetamol\",\\n    \"ingredients\": [\\n        \"paracetamol\"\\n    ],\\n    \"brand_names\": [\\n        \"Panadol\",\\n        \"Calpol\",\\n        \"Tylenol\",\\n        \"Alvedon\"\\n    ],\\n    \"medicine_use\": \"used to temporarily relieve mild-to-moderate pain and fever\",\\n    \"common_side_effects\": [\\n        \"Redness or soreness in or around the rectum\"\\n    ],\\n    \"severe_side_effects\": [\\n        \"Allergic reactions, skin rashes, itching or hives, swelling of the throat, tongue or face, shortness of breath or wheezing\",\\n        \"Skin rash or peeling, or mouth ulcers\",\\n        \"Breathing problems\",\\n        \"Unexplained bruising or bleeding, becoming unusually tired, getting more infections than usual\",\\n        \"Liver problems, nausea, sudden weight loss, loss of appetite, yellowing of the eyes and skin\"\\n    ],\\n    \"immediate_attention_side_effects\": [\\n        \"paleness\",\\n        \"nausea\",\\n        \"sweating\",\\n        \"vomiting\",\\n        \"loss of appetite\",\\n        \"abdominal pain\"\\n    ],\\n    \"how_to_use\": \"Always use exactly as your doctor or pharmacist tells you to. Do not take more than the recommended dose. Check the instructions for the paracetamol product you have. Paracetamol may be taken every 4 to 6 hours. Leave at least 4 hours between doses. Do not take more than four doses in 24 hours. Do not take for more than 3 days, unless your doctor tells you to. Contact your healthcare professional if your symptoms get worse or do not improve.\",\\n    \"storage_instructions\": \"Keep out of sight and reach of children; do not use the medicine after the expiry date; store below 77\\\\u00b0F (25\\\\u00b0C) unless instructed otherwise; store paracetamol suppositories in a cool, dry place below 77\\\\u00b0F (25\\\\u00b0C) and out of direct sunlight; store paracetamol effervescent tablets below 86\\\\u00b0F (30\\\\u00b0C); store paracetamol solution for infusion below 86\\\\u00b0F (30\\\\u00b0C) and do not refrigerate or freeze.\",\\n    \"mechanism_of_action\": \"thought to work by blocking chemical messengers in the brain that let us know when we\\'re in pain and by affecting the chemical messengers that regulate our body temperature; inhibits the production of prostaglandins\",\\n    \"warnings_precautions\": [\\n        \"Do not take paracetamol if you are allergic to it or any of the other ingredients.\",\\n        \"May be more sensitive to side effects if consuming large amounts of alcohol.\",\\n        \"Contact your doctor immediately if symptoms of metabolic acidosis occur.\"\\n    ],\\n    \"alternative_medicines\": [\\n        \"Tramadol\",\\n        \"Naproxen\",\\n        \"Hydroxyzine\",\\n        \"Cyclobenzaprine\",\\n        \"Meloxicam\",\\n        \"Oxycodone\",\\n        \"Diclofenac\"\\n    ],\\n    \"natural_alternatives\": [\\n        \"missing\"\\n    ],\\n    \"regulatory_approval\": \"available over-the-counter (OTC) and as a prescription medication\",\\n    \"drug_interactions\": \"Blood thinning medications such as warfarin; medications for nausea such as metoclopramide; cholestyramine for high cholesterol; lamotrigine for epilepsy; isoniazide for tuberculosis; aspirin; barbiturates and tricyclic antidepressants; probenecid; chloramphenicol; zidovudine; flucloxacillin\",\\n    \"forms_variants\": [\\n        \"effervescent tablet\",\\n        \"intravenous (infusion) injection\",\\n        \"orally disintegrating tablet\",\\n        \"oral capsule\",\\n        \"oral powder\",\\n        \"oral suspension\",\\n        \"oral tablet\",\\n        \"suppository\"\\n    ],\\n    \"prescription_required\": false,\\n    \"contraindications\": [\\n        \"allergy to paracetamol or any other ingredient\",\\n        \"severe infection\",\\n        \"asthma sensitive to aspirin\"\\n    ],\\n    \"drug_class\": \"Miscellaneous analgesics\",\\n    \"pregnancy_lactation\": \"can be used during pregnancy; can be taken if breastfeeding\",\\n    \"dosage_forms\": [\\n        \"tablets\",\\n        \"capsules\",\\n        \"oral suspension\",\\n        \"suppositories\",\\n        \"effervescent tablets\",\\n        \"solution for infusion\",\\n        \"orally disintegrating tablets\",\\n        \"powder\"\\n    ],\\n    \"special_populations_children\": \"check with your doctor or pharmacist about the correct dose based on child\\'s age and weight.\",\\n    \"special_populations_elderly\": \"missing\",\\n    \"special_populations_renal_impairment\": \"missing\",\\n    \"special_populations_hepatic_impairment\": \"use caution in patients with liver problems, may need to avoid or limit use\",\\n    \"overdose_information\": \"get medical help immediately; symptoms may include paleness, nausea, sweating, vomiting, loss of appetite, and abdominal pain; quick medical attention is critical even if they seem well.\",\\n    \"reviews_rating\": \"7.0 / 10\"\\n}\\n\\n',\n",
       " \"\\nPrices of medicines | Cost of medicines | How much these comes at ? Where can i get these ? Links on the internet ? Where to buy ? \\n\\n\\n[{'name': 'BRUFEN 400MG TABLET', 'price': '16.99', 'quantity': '15S', 'url': 'https://www.practo.com/medicine-info/ibuprofen-395-api'}, {'name': 'ibuprofen', 'price': 'NA', 'quantity': 'NA', 'url': 'https://www.netmeds.com/prescriptions/337279?srsltid=AfmBOorjMq-eX4UVqchmL_Md8V6dSJYVITX11avgnk6gXsWiuMwTc4zE'}, \\n {'name': 'Ibuprofen', 'price': '4.00', 'quantity': '10 Tablets', 'url': 'https://pharmeasy.in/online-medicine-order/ibuprofen-alk-250mg-strip-of-250-tablets-195197'}, {'name': 'Ibuprofen', 'price': '66.88', 'quantity': '250 Tablets', 'url': 'https://www.apollopharmacy.in/medicine/ibuprofen-400-mg-tablet-10-s?srsltid=AfmBOoqLbAtMxW7PUsK-rUcomvPTyf4NR-mK5YwVCU1zIY4IeCDBh7-8'},\\n  {'name': 'Ibuprofen 400 mg Tablet', 'price': 'NA', 'quantity': '10s', 'url': 'https://www.medkart.in/order-medicine/brufen-400mg-tablet-15s'}]\\n\\n\\n[{'name': 'PARACETAMOL 500MG TABLET', 'price': '17.94', 'quantity': '20S', 'url': 'https://www.practo.com/medicine-info/paracetamol-219-api'}, {'name': 'paracetamol', 'price': 'NA', 'quantity': 'NA', 'url': 'https://www.netmeds.com/prescriptions/paracetamol-tablet-10-s'}, {'name': 'paracetamol', 'price': 'NA', \\n'quantity': 'NA', 'url': 'https://pharmeasy.in/online-medicine-order/paracetamol-cipla-500-mg-tablet-10-198467'}, {'name': 'PARACETAMOL Tablet', 'price': '10.08', 'quantity': '10 Tablets', 'url': 'https://www.apollopharmacy.in/salt/Paracetamol?srsltid=AfmBOopA2iEFVNA2JqQ8h1keENoif1l8Ok6H9YPoo3omyhDA0SyPkgvU'}, \\n{'name': 'Paracetamol 500mg Strip Of 10 Tablets Cipla', 'price': '7.62', 'quantity': '10 Tablets', 'url': 'https://www.medkart.in/order-medicine/paracetamol-500mg-tablet-20s'}]\"]"
      ]
     },
     "execution_count": 10,
     "metadata": {},
     "output_type": "execute_result"
    }
   ],
   "source": [
    "chunks"
   ]
  },
  {
   "cell_type": "code",
   "execution_count": 11,
   "metadata": {},
   "outputs": [
    {
     "data": {
      "text/plain": [
       "[176, 237, 40, 444, 525, 127]"
      ]
     },
     "execution_count": 11,
     "metadata": {},
     "output_type": "execute_result"
    }
   ],
   "source": [
    "# get word length of each chunk\n",
    "chunks_word_length = [len(chunk.split()) for chunk in chunks]\n",
    "chunks_word_length"
   ]
  },
  {
   "cell_type": "code",
   "execution_count": 12,
   "metadata": {},
   "outputs": [],
   "source": [
    "from langchain_openai import OpenAIEmbeddings"
   ]
  },
  {
   "cell_type": "code",
   "execution_count": 13,
   "metadata": {},
   "outputs": [],
   "source": [
    "em_model = OpenAIEmbeddings(model = \"text-embedding-3-small\")"
   ]
  },
  {
   "cell_type": "code",
   "execution_count": 14,
   "metadata": {},
   "outputs": [],
   "source": [
    "embeddings = em_model.embed_documents(chunks)"
   ]
  },
  {
   "cell_type": "code",
   "execution_count": 17,
   "metadata": {},
   "outputs": [
    {
     "data": {
      "text/plain": [
       "(6, 1536)"
      ]
     },
     "execution_count": 17,
     "metadata": {},
     "output_type": "execute_result"
    }
   ],
   "source": [
    "len(embeddings), len(embeddings[0])"
   ]
  },
  {
   "cell_type": "code",
   "execution_count": null,
   "metadata": {},
   "outputs": [],
   "source": [
    "from langchain_core.vectorstores import InMemoryVectorStore\n",
    "\n",
    "vector_store = InMemoryVectorStore(em_model)"
   ]
  },
  {
   "cell_type": "code",
   "execution_count": 24,
   "metadata": {},
   "outputs": [],
   "source": [
    "from langchain_core.documents import Document   "
   ]
  },
  {
   "cell_type": "code",
   "execution_count": 25,
   "metadata": {},
   "outputs": [],
   "source": [
    "docs = [Document(page_content=chunk) for chunk in chunks]"
   ]
  },
  {
   "cell_type": "code",
   "execution_count": 26,
   "metadata": {},
   "outputs": [
    {
     "data": {
      "text/plain": [
       "[Document(metadata={}, page_content='\\nThe Original Report of the patient is : \\n\\n1IAN M KRONISH, MD, MPH \\nAssistant Professor of Medicine \\n \\nCenter for Behavioral Cardiovascular \\nHealth \\n622 West 168th Street, PH9-311 \\nNew York, NY 10032 \\n212.342.1335 \\n212.342.3441 Fax \\nIk2293@columbia.edu \\nwww.cumc.columbia.edu/cbch \\n   February 10, 2016   Re: ABPM for John Doe, MRN: 1234567  Dear Dr. Jane Doe:  You referred your patient John Doe for ambulatory blood pressure monitoring (ABPM). Here is a \\nbrief summary and interpretation of your patient’s results. A more detailed report is attached.   Reason for Referral: Suspected White-Coat Hypertension \\nTotal Number of Blood Pressure Readings: 35 (minimum to be valid >10) % Valid Readings: 85% (optimal >80%)  Quality of Study: Adequate  \\nSummary of Blood Pressure Readings:  Period Patient’s Blood Pressure Normal Blood Pressure \\nDaytime (awake) 142/87 mmHg <135/85 mmHg \\nNighttime (asleep) 125/75 mmHg <120/70 mmHg \\n24-hour 135/85 mmHg <130/80 mmHg \\n  Interpretation:  \\nElevated ambulatory blood pressure consistent with sustained hypertension.  \\n Recommendation: \\nInitiate treatment for hypertension. \\n Please do not hesitate to contact me if you have any questions regarding this report.  Kind regards,    Ian Kronish, MD, MPH, FAHA Director, ActiveBP 212-342-1335 ik2293@columbia.edu  \\n\\n'),\n",
       " Document(metadata={}, page_content=\"\\nWhats in my report ? Is everything okay in the report ? Whats wrong in the report ? What are the Abnormalities \\nThe Summarized Report of the patient is: \\n1. Findings:\\n- The patient, John Doe, underwent ambulatory blood pressure monitoring (ABPM) for suspected White-Coat Hypertension.\\n- A total of 35 blood pressure readings were taken, with 85% of them being valid.    \\n- The summary of blood pressure readings showed elevated values during the daytime, nighttime, and over a 24-hour period.\\n\\n2. Abnormal values/Health concerns:\\n- Daytime blood pressure was 142/87 mmHg, which is higher than the normal range of <135/85 mmHg.\\n- Nighttime blood pressure was 125/75 mmHg, exceeding the normal range of <120/70 mmHg.\\n- The 24-hour blood pressure was 135/85 mmHg, higher than the normal range of <130/80 mmHg.\\n- The interpretation suggests elevated ambulatory blood pressure consistent with sustained hypertension, indicating the need for treatment.\\n\\n3. Explanation of complex terms:\\n- Ambulatory blood pressure monitoring (ABPM): A test that measures blood pressure at regular intervals over a 24-hour period, providing a more accurate assessment of blood pressure variations throughout the day and night.\\n- White-Coat Hypertension: A condition where a person's blood pressure is higher in a medical setting (doctor's office) than in other settings, leading to a false diagnosis of hypertension.\\n- Sustained hypertension: Persistent high blood pressure readings over time, indicating a need for ongoing treatment to manage blood pressure levels.\\n\\n\\n\"),\n",
       " Document(metadata={}, page_content=\"\\nWhats in the chest x ray result ? is the medical image okay ? medical image report ? What is found in Chest X ray ?\\nChest X ray results: \\n{'Consolidation': 97.86, 'Edema': 100.0, 'Infiltration': 100.0, 'Mass': 99.74, 'Pneumonia': 97.34} \\n\\n\\n\"),\n",
       " Document(metadata={}, page_content=' \\nAll information about Ibuprofen \\n{\\n    \"medication_name\": \"Ibuprofen\",\\n    \"generic_name\": \"ibuprofen\",\\n    \"ingredients\": [\\n        \"ibuprofen\"\\n    ],\\n    \"brand_names\": [\\n        \"Advil\",\\n        \"Genpril\",\\n        \"IBU\",\\n        \"Midol IB\",\\n        \"Motrin IB\",\\n        \"Proprinal\",\\n        \"Smart Sense Children\\'s Ibuprofen\"\\n    ],\\n    \"medicine_use\": \"Ibuprofen is used to reduce fever and treat pain or inflammation caused by many conditions such as headache, toothache, back pain, arthritis, menstrual cramps, or minor injury.\",\\n    \"common_side_effects\": [\\n        \"nausea\",\\n        \"vomiting\",\\n        \"gas\",\\n        \"bleeding\",\\n        \"dizziness\",\\n        \"headache\"\\n    ],\\n    \"severe_side_effects\": [\\n        \"stomach or intestinal bleeding\",\\n        \"heart attack\",\\n        \"stroke\",\\n        \"liver problems\",\\n        \"kidney problems\",\\n        \"allergic reaction\",\\n        \"severe skin reaction\",\\n        \"vision changes\",\\n        \"anemia\"\\n    ],\\n    \"immediate_attention_side_effects\": [\\n        \"signs of an allergic reaction to ibuprofen\",\\n        \"signs of a heart attack or stroke\",\\n        \"signs of stomach bleeding\",\\n        \"liver problems\",\\n        \"kidney problems\"\\n    ],\\n    \"how_to_use\": \"Use ibuprofen exactly as directed on the label, or as prescribed by your doctor. Use the lowest dose that is effective in treating your condition. The maximum amount of ibuprofen for adults is 800 milligrams per dose or 3200 mg per day (4 maximum doses).\",\\n    \"storage_instructions\": \"Store at room temperature away from moisture and heat. Do not allow the liquid medicine to freeze.\",\\n    \"mechanism_of_action\": \"It works by reducing hormones that cause inflammation and pain in the body.\",\\n    \"warnings_precautions\": [\\n        \"Can increase risk of fatal heart attack or stroke.\",\\n        \"Can cause stomach or intestinal bleeding, which can be fatal.\",\\n        \"Do not use before or after heart bypass surgery.\"\\n    ],\\n    \"alternative_medicines\": [\\n        \"Naproxen\"\\n    ],\\n    \"natural_alternatives\": [\\n        \"missing\"\\n    ],\\n    \"regulatory_approval\": \"Rx and/or OTC\",\\n    \"drug_interactions\": \"Ask your doctor before using ibuprofen if you take an antidepressant. Potential interactions with other medications including blood thinners and certain antidepressants.\",\\n    \"forms_variants\": [\\n        \"oral capsule (200 mg)\",\\n        \"oral suspension (100 mg/5 mL; 50 mg/1.25 mL)\",\\n        \"oral tablet (100 mg; 200 mg; 400 mg; 600 mg; 800 mg)\",\\n        \"oral tablet, chewable (100 mg; 50 mg)\"\\n    ],\\n    \"prescription_required\": null,\\n    \"contraindications\": [\\n        \"allergic to ibuprofen\",\\n        \"history of asthma attack after taking aspirin or NSAID\",\\n        \"stomach ulcers or bleeding\",\\n        \"liver disease\",\\n        \"kidney disease\",\\n        \"if taking aspirin to prevent heart attack or stroke\"\\n    ],\\n    \"drug_class\": \"Nonsteroidal anti-inflammatory drugs\",\\n    \"pregnancy_lactation\": \"Ask a doctor before using this medicine if you are pregnant or breastfeeding. Taking an NSAID during the last 20 weeks of pregnancy can cause serious heart or kidney problems in the unborn baby and possible complications with your pregnancy.\",\\n    \"dosage_forms\": [\\n        \"oral capsule\",\\n        \"oral suspension\",\\n        \"oral tablet\",\\n        \"chewable tablet\"\\n    ],\\n    \"special_populations_children\": \"Do not give ibuprofen to a child younger than 6 months old without the advice of a doctor.\",\\n    \"special_populations_elderly\": \"missing\",\\n    \"special_populations_renal_impairment\": \"missing\",\\n    \"special_populations_hepatic_impairment\": \"missing\",\\n    \"overdose_information\": \"Seek emergency medical attention or call the Poison Help line at 1-800-222-1222. Overdose symptoms may include nausea, vomiting, stomach pain, drowsiness, black or bloody stools, coughing up blood, shallow breathing, fainting or coma.\",\\n    \"reviews_rating\": \"7.4 / 10\"\\n}\\n\\n'),\n",
       " Document(metadata={}, page_content='\\nAll information about paracetamol | \\n{\\n    \"medication_name\": \"Paracetamol\",\\n    \"generic_name\": \"paracetamol\",\\n    \"ingredients\": [\\n        \"paracetamol\"\\n    ],\\n    \"brand_names\": [\\n        \"Panadol\",\\n        \"Calpol\",\\n        \"Tylenol\",\\n        \"Alvedon\"\\n    ],\\n    \"medicine_use\": \"used to temporarily relieve mild-to-moderate pain and fever\",\\n    \"common_side_effects\": [\\n        \"Redness or soreness in or around the rectum\"\\n    ],\\n    \"severe_side_effects\": [\\n        \"Allergic reactions, skin rashes, itching or hives, swelling of the throat, tongue or face, shortness of breath or wheezing\",\\n        \"Skin rash or peeling, or mouth ulcers\",\\n        \"Breathing problems\",\\n        \"Unexplained bruising or bleeding, becoming unusually tired, getting more infections than usual\",\\n        \"Liver problems, nausea, sudden weight loss, loss of appetite, yellowing of the eyes and skin\"\\n    ],\\n    \"immediate_attention_side_effects\": [\\n        \"paleness\",\\n        \"nausea\",\\n        \"sweating\",\\n        \"vomiting\",\\n        \"loss of appetite\",\\n        \"abdominal pain\"\\n    ],\\n    \"how_to_use\": \"Always use exactly as your doctor or pharmacist tells you to. Do not take more than the recommended dose. Check the instructions for the paracetamol product you have. Paracetamol may be taken every 4 to 6 hours. Leave at least 4 hours between doses. Do not take more than four doses in 24 hours. Do not take for more than 3 days, unless your doctor tells you to. Contact your healthcare professional if your symptoms get worse or do not improve.\",\\n    \"storage_instructions\": \"Keep out of sight and reach of children; do not use the medicine after the expiry date; store below 77\\\\u00b0F (25\\\\u00b0C) unless instructed otherwise; store paracetamol suppositories in a cool, dry place below 77\\\\u00b0F (25\\\\u00b0C) and out of direct sunlight; store paracetamol effervescent tablets below 86\\\\u00b0F (30\\\\u00b0C); store paracetamol solution for infusion below 86\\\\u00b0F (30\\\\u00b0C) and do not refrigerate or freeze.\",\\n    \"mechanism_of_action\": \"thought to work by blocking chemical messengers in the brain that let us know when we\\'re in pain and by affecting the chemical messengers that regulate our body temperature; inhibits the production of prostaglandins\",\\n    \"warnings_precautions\": [\\n        \"Do not take paracetamol if you are allergic to it or any of the other ingredients.\",\\n        \"May be more sensitive to side effects if consuming large amounts of alcohol.\",\\n        \"Contact your doctor immediately if symptoms of metabolic acidosis occur.\"\\n    ],\\n    \"alternative_medicines\": [\\n        \"Tramadol\",\\n        \"Naproxen\",\\n        \"Hydroxyzine\",\\n        \"Cyclobenzaprine\",\\n        \"Meloxicam\",\\n        \"Oxycodone\",\\n        \"Diclofenac\"\\n    ],\\n    \"natural_alternatives\": [\\n        \"missing\"\\n    ],\\n    \"regulatory_approval\": \"available over-the-counter (OTC) and as a prescription medication\",\\n    \"drug_interactions\": \"Blood thinning medications such as warfarin; medications for nausea such as metoclopramide; cholestyramine for high cholesterol; lamotrigine for epilepsy; isoniazide for tuberculosis; aspirin; barbiturates and tricyclic antidepressants; probenecid; chloramphenicol; zidovudine; flucloxacillin\",\\n    \"forms_variants\": [\\n        \"effervescent tablet\",\\n        \"intravenous (infusion) injection\",\\n        \"orally disintegrating tablet\",\\n        \"oral capsule\",\\n        \"oral powder\",\\n        \"oral suspension\",\\n        \"oral tablet\",\\n        \"suppository\"\\n    ],\\n    \"prescription_required\": false,\\n    \"contraindications\": [\\n        \"allergy to paracetamol or any other ingredient\",\\n        \"severe infection\",\\n        \"asthma sensitive to aspirin\"\\n    ],\\n    \"drug_class\": \"Miscellaneous analgesics\",\\n    \"pregnancy_lactation\": \"can be used during pregnancy; can be taken if breastfeeding\",\\n    \"dosage_forms\": [\\n        \"tablets\",\\n        \"capsules\",\\n        \"oral suspension\",\\n        \"suppositories\",\\n        \"effervescent tablets\",\\n        \"solution for infusion\",\\n        \"orally disintegrating tablets\",\\n        \"powder\"\\n    ],\\n    \"special_populations_children\": \"check with your doctor or pharmacist about the correct dose based on child\\'s age and weight.\",\\n    \"special_populations_elderly\": \"missing\",\\n    \"special_populations_renal_impairment\": \"missing\",\\n    \"special_populations_hepatic_impairment\": \"use caution in patients with liver problems, may need to avoid or limit use\",\\n    \"overdose_information\": \"get medical help immediately; symptoms may include paleness, nausea, sweating, vomiting, loss of appetite, and abdominal pain; quick medical attention is critical even if they seem well.\",\\n    \"reviews_rating\": \"7.0 / 10\"\\n}\\n\\n'),\n",
       " Document(metadata={}, page_content=\"\\nPrices of medicines | Cost of medicines | How much these comes at ? Where can i get these ? Links on the internet ? Where to buy ? \\n\\n\\n[{'name': 'BRUFEN 400MG TABLET', 'price': '16.99', 'quantity': '15S', 'url': 'https://www.practo.com/medicine-info/ibuprofen-395-api'}, {'name': 'ibuprofen', 'price': 'NA', 'quantity': 'NA', 'url': 'https://www.netmeds.com/prescriptions/337279?srsltid=AfmBOorjMq-eX4UVqchmL_Md8V6dSJYVITX11avgnk6gXsWiuMwTc4zE'}, \\n {'name': 'Ibuprofen', 'price': '4.00', 'quantity': '10 Tablets', 'url': 'https://pharmeasy.in/online-medicine-order/ibuprofen-alk-250mg-strip-of-250-tablets-195197'}, {'name': 'Ibuprofen', 'price': '66.88', 'quantity': '250 Tablets', 'url': 'https://www.apollopharmacy.in/medicine/ibuprofen-400-mg-tablet-10-s?srsltid=AfmBOoqLbAtMxW7PUsK-rUcomvPTyf4NR-mK5YwVCU1zIY4IeCDBh7-8'},\\n  {'name': 'Ibuprofen 400 mg Tablet', 'price': 'NA', 'quantity': '10s', 'url': 'https://www.medkart.in/order-medicine/brufen-400mg-tablet-15s'}]\\n\\n\\n[{'name': 'PARACETAMOL 500MG TABLET', 'price': '17.94', 'quantity': '20S', 'url': 'https://www.practo.com/medicine-info/paracetamol-219-api'}, {'name': 'paracetamol', 'price': 'NA', 'quantity': 'NA', 'url': 'https://www.netmeds.com/prescriptions/paracetamol-tablet-10-s'}, {'name': 'paracetamol', 'price': 'NA', \\n'quantity': 'NA', 'url': 'https://pharmeasy.in/online-medicine-order/paracetamol-cipla-500-mg-tablet-10-198467'}, {'name': 'PARACETAMOL Tablet', 'price': '10.08', 'quantity': '10 Tablets', 'url': 'https://www.apollopharmacy.in/salt/Paracetamol?srsltid=AfmBOopA2iEFVNA2JqQ8h1keENoif1l8Ok6H9YPoo3omyhDA0SyPkgvU'}, \\n{'name': 'Paracetamol 500mg Strip Of 10 Tablets Cipla', 'price': '7.62', 'quantity': '10 Tablets', 'url': 'https://www.medkart.in/order-medicine/paracetamol-500mg-tablet-20s'}]\")]"
      ]
     },
     "execution_count": 26,
     "metadata": {},
     "output_type": "execute_result"
    }
   ],
   "source": [
    "docs"
   ]
  },
  {
   "cell_type": "code",
   "execution_count": 27,
   "metadata": {},
   "outputs": [],
   "source": [
    "store = vector_store.from_documents(docs, em_model)"
   ]
  },
  {
   "cell_type": "code",
   "execution_count": 28,
   "metadata": {},
   "outputs": [],
   "source": [
    "retriever = store.as_retriever(\n",
    "    search_kwargs = {\"k\": 2}\n",
    ")"
   ]
  },
  {
   "cell_type": "code",
   "execution_count": 49,
   "metadata": {},
   "outputs": [],
   "source": [
    "res = retriever.invoke(\n",
    "    \"What are some alternative medicines for paracetamol?\"\n",
    ")"
   ]
  },
  {
   "cell_type": "code",
   "execution_count": 50,
   "metadata": {},
   "outputs": [
    {
     "data": {
      "text/plain": [
       "[Document(id='d06031e8-243a-4cea-8ec2-8b0a37deaaa8', metadata={}, page_content='\\nAll information about paracetamol | \\n{\\n    \"medication_name\": \"Paracetamol\",\\n    \"generic_name\": \"paracetamol\",\\n    \"ingredients\": [\\n        \"paracetamol\"\\n    ],\\n    \"brand_names\": [\\n        \"Panadol\",\\n        \"Calpol\",\\n        \"Tylenol\",\\n        \"Alvedon\"\\n    ],\\n    \"medicine_use\": \"used to temporarily relieve mild-to-moderate pain and fever\",\\n    \"common_side_effects\": [\\n        \"Redness or soreness in or around the rectum\"\\n    ],\\n    \"severe_side_effects\": [\\n        \"Allergic reactions, skin rashes, itching or hives, swelling of the throat, tongue or face, shortness of breath or wheezing\",\\n        \"Skin rash or peeling, or mouth ulcers\",\\n        \"Breathing problems\",\\n        \"Unexplained bruising or bleeding, becoming unusually tired, getting more infections than usual\",\\n        \"Liver problems, nausea, sudden weight loss, loss of appetite, yellowing of the eyes and skin\"\\n    ],\\n    \"immediate_attention_side_effects\": [\\n        \"paleness\",\\n        \"nausea\",\\n        \"sweating\",\\n        \"vomiting\",\\n        \"loss of appetite\",\\n        \"abdominal pain\"\\n    ],\\n    \"how_to_use\": \"Always use exactly as your doctor or pharmacist tells you to. Do not take more than the recommended dose. Check the instructions for the paracetamol product you have. Paracetamol may be taken every 4 to 6 hours. Leave at least 4 hours between doses. Do not take more than four doses in 24 hours. Do not take for more than 3 days, unless your doctor tells you to. Contact your healthcare professional if your symptoms get worse or do not improve.\",\\n    \"storage_instructions\": \"Keep out of sight and reach of children; do not use the medicine after the expiry date; store below 77\\\\u00b0F (25\\\\u00b0C) unless instructed otherwise; store paracetamol suppositories in a cool, dry place below 77\\\\u00b0F (25\\\\u00b0C) and out of direct sunlight; store paracetamol effervescent tablets below 86\\\\u00b0F (30\\\\u00b0C); store paracetamol solution for infusion below 86\\\\u00b0F (30\\\\u00b0C) and do not refrigerate or freeze.\",\\n    \"mechanism_of_action\": \"thought to work by blocking chemical messengers in the brain that let us know when we\\'re in pain and by affecting the chemical messengers that regulate our body temperature; inhibits the production of prostaglandins\",\\n    \"warnings_precautions\": [\\n        \"Do not take paracetamol if you are allergic to it or any of the other ingredients.\",\\n        \"May be more sensitive to side effects if consuming large amounts of alcohol.\",\\n        \"Contact your doctor immediately if symptoms of metabolic acidosis occur.\"\\n    ],\\n    \"alternative_medicines\": [\\n        \"Tramadol\",\\n        \"Naproxen\",\\n        \"Hydroxyzine\",\\n        \"Cyclobenzaprine\",\\n        \"Meloxicam\",\\n        \"Oxycodone\",\\n        \"Diclofenac\"\\n    ],\\n    \"natural_alternatives\": [\\n        \"missing\"\\n    ],\\n    \"regulatory_approval\": \"available over-the-counter (OTC) and as a prescription medication\",\\n    \"drug_interactions\": \"Blood thinning medications such as warfarin; medications for nausea such as metoclopramide; cholestyramine for high cholesterol; lamotrigine for epilepsy; isoniazide for tuberculosis; aspirin; barbiturates and tricyclic antidepressants; probenecid; chloramphenicol; zidovudine; flucloxacillin\",\\n    \"forms_variants\": [\\n        \"effervescent tablet\",\\n        \"intravenous (infusion) injection\",\\n        \"orally disintegrating tablet\",\\n        \"oral capsule\",\\n        \"oral powder\",\\n        \"oral suspension\",\\n        \"oral tablet\",\\n        \"suppository\"\\n    ],\\n    \"prescription_required\": false,\\n    \"contraindications\": [\\n        \"allergy to paracetamol or any other ingredient\",\\n        \"severe infection\",\\n        \"asthma sensitive to aspirin\"\\n    ],\\n    \"drug_class\": \"Miscellaneous analgesics\",\\n    \"pregnancy_lactation\": \"can be used during pregnancy; can be taken if breastfeeding\",\\n    \"dosage_forms\": [\\n        \"tablets\",\\n        \"capsules\",\\n        \"oral suspension\",\\n        \"suppositories\",\\n        \"effervescent tablets\",\\n        \"solution for infusion\",\\n        \"orally disintegrating tablets\",\\n        \"powder\"\\n    ],\\n    \"special_populations_children\": \"check with your doctor or pharmacist about the correct dose based on child\\'s age and weight.\",\\n    \"special_populations_elderly\": \"missing\",\\n    \"special_populations_renal_impairment\": \"missing\",\\n    \"special_populations_hepatic_impairment\": \"use caution in patients with liver problems, may need to avoid or limit use\",\\n    \"overdose_information\": \"get medical help immediately; symptoms may include paleness, nausea, sweating, vomiting, loss of appetite, and abdominal pain; quick medical attention is critical even if they seem well.\",\\n    \"reviews_rating\": \"7.0 / 10\"\\n}\\n\\n'),\n",
       " Document(id='0602e47d-673d-499c-aa3e-a1d3cbdde909', metadata={}, page_content=\"\\nPrices of medicines | Cost of medicines | How much these comes at ? Where can i get these ? Links on the internet ? Where to buy ? \\n\\n\\n[{'name': 'BRUFEN 400MG TABLET', 'price': '16.99', 'quantity': '15S', 'url': 'https://www.practo.com/medicine-info/ibuprofen-395-api'}, {'name': 'ibuprofen', 'price': 'NA', 'quantity': 'NA', 'url': 'https://www.netmeds.com/prescriptions/337279?srsltid=AfmBOorjMq-eX4UVqchmL_Md8V6dSJYVITX11avgnk6gXsWiuMwTc4zE'}, \\n {'name': 'Ibuprofen', 'price': '4.00', 'quantity': '10 Tablets', 'url': 'https://pharmeasy.in/online-medicine-order/ibuprofen-alk-250mg-strip-of-250-tablets-195197'}, {'name': 'Ibuprofen', 'price': '66.88', 'quantity': '250 Tablets', 'url': 'https://www.apollopharmacy.in/medicine/ibuprofen-400-mg-tablet-10-s?srsltid=AfmBOoqLbAtMxW7PUsK-rUcomvPTyf4NR-mK5YwVCU1zIY4IeCDBh7-8'},\\n  {'name': 'Ibuprofen 400 mg Tablet', 'price': 'NA', 'quantity': '10s', 'url': 'https://www.medkart.in/order-medicine/brufen-400mg-tablet-15s'}]\\n\\n\\n[{'name': 'PARACETAMOL 500MG TABLET', 'price': '17.94', 'quantity': '20S', 'url': 'https://www.practo.com/medicine-info/paracetamol-219-api'}, {'name': 'paracetamol', 'price': 'NA', 'quantity': 'NA', 'url': 'https://www.netmeds.com/prescriptions/paracetamol-tablet-10-s'}, {'name': 'paracetamol', 'price': 'NA', \\n'quantity': 'NA', 'url': 'https://pharmeasy.in/online-medicine-order/paracetamol-cipla-500-mg-tablet-10-198467'}, {'name': 'PARACETAMOL Tablet', 'price': '10.08', 'quantity': '10 Tablets', 'url': 'https://www.apollopharmacy.in/salt/Paracetamol?srsltid=AfmBOopA2iEFVNA2JqQ8h1keENoif1l8Ok6H9YPoo3omyhDA0SyPkgvU'}, \\n{'name': 'Paracetamol 500mg Strip Of 10 Tablets Cipla', 'price': '7.62', 'quantity': '10 Tablets', 'url': 'https://www.medkart.in/order-medicine/paracetamol-500mg-tablet-20s'}]\")]"
      ]
     },
     "execution_count": 50,
     "metadata": {},
     "output_type": "execute_result"
    }
   ],
   "source": [
    "res"
   ]
  },
  {
   "cell_type": "code",
   "execution_count": 61,
   "metadata": {},
   "outputs": [],
   "source": [
    "relevant_doc = res[0].page_content +  \"\\n\" + res[1].page_content"
   ]
  },
  {
   "cell_type": "code",
   "execution_count": 62,
   "metadata": {},
   "outputs": [
    {
     "data": {
      "text/plain": [
       "'\\nAll information about paracetamol | \\n{\\n    \"medication_name\": \"Paracetamol\",\\n    \"generic_name\": \"paracetamol\",\\n    \"ingredients\": [\\n        \"paracetamol\"\\n    ],\\n    \"brand_names\": [\\n        \"Panadol\",\\n        \"Calpol\",\\n        \"Tylenol\",\\n        \"Alvedon\"\\n    ],\\n    \"medicine_use\": \"used to temporarily relieve mild-to-moderate pain and fever\",\\n    \"common_side_effects\": [\\n        \"Redness or soreness in or around the rectum\"\\n    ],\\n    \"severe_side_effects\": [\\n        \"Allergic reactions, skin rashes, itching or hives, swelling of the throat, tongue or face, shortness of breath or wheezing\",\\n        \"Skin rash or peeling, or mouth ulcers\",\\n        \"Breathing problems\",\\n        \"Unexplained bruising or bleeding, becoming unusually tired, getting more infections than usual\",\\n        \"Liver problems, nausea, sudden weight loss, loss of appetite, yellowing of the eyes and skin\"\\n    ],\\n    \"immediate_attention_side_effects\": [\\n        \"paleness\",\\n        \"nausea\",\\n        \"sweating\",\\n        \"vomiting\",\\n        \"loss of appetite\",\\n        \"abdominal pain\"\\n    ],\\n    \"how_to_use\": \"Always use exactly as your doctor or pharmacist tells you to. Do not take more than the recommended dose. Check the instructions for the paracetamol product you have. Paracetamol may be taken every 4 to 6 hours. Leave at least 4 hours between doses. Do not take more than four doses in 24 hours. Do not take for more than 3 days, unless your doctor tells you to. Contact your healthcare professional if your symptoms get worse or do not improve.\",\\n    \"storage_instructions\": \"Keep out of sight and reach of children; do not use the medicine after the expiry date; store below 77\\\\u00b0F (25\\\\u00b0C) unless instructed otherwise; store paracetamol suppositories in a cool, dry place below 77\\\\u00b0F (25\\\\u00b0C) and out of direct sunlight; store paracetamol effervescent tablets below 86\\\\u00b0F (30\\\\u00b0C); store paracetamol solution for infusion below 86\\\\u00b0F (30\\\\u00b0C) and do not refrigerate or freeze.\",\\n    \"mechanism_of_action\": \"thought to work by blocking chemical messengers in the brain that let us know when we\\'re in pain and by affecting the chemical messengers that regulate our body temperature; inhibits the production of prostaglandins\",\\n    \"warnings_precautions\": [\\n        \"Do not take paracetamol if you are allergic to it or any of the other ingredients.\",\\n        \"May be more sensitive to side effects if consuming large amounts of alcohol.\",\\n        \"Contact your doctor immediately if symptoms of metabolic acidosis occur.\"\\n    ],\\n    \"alternative_medicines\": [\\n        \"Tramadol\",\\n        \"Naproxen\",\\n        \"Hydroxyzine\",\\n        \"Cyclobenzaprine\",\\n        \"Meloxicam\",\\n        \"Oxycodone\",\\n        \"Diclofenac\"\\n    ],\\n    \"natural_alternatives\": [\\n        \"missing\"\\n    ],\\n    \"regulatory_approval\": \"available over-the-counter (OTC) and as a prescription medication\",\\n    \"drug_interactions\": \"Blood thinning medications such as warfarin; medications for nausea such as metoclopramide; cholestyramine for high cholesterol; lamotrigine for epilepsy; isoniazide for tuberculosis; aspirin; barbiturates and tricyclic antidepressants; probenecid; chloramphenicol; zidovudine; flucloxacillin\",\\n    \"forms_variants\": [\\n        \"effervescent tablet\",\\n        \"intravenous (infusion) injection\",\\n        \"orally disintegrating tablet\",\\n        \"oral capsule\",\\n        \"oral powder\",\\n        \"oral suspension\",\\n        \"oral tablet\",\\n        \"suppository\"\\n    ],\\n    \"prescription_required\": false,\\n    \"contraindications\": [\\n        \"allergy to paracetamol or any other ingredient\",\\n        \"severe infection\",\\n        \"asthma sensitive to aspirin\"\\n    ],\\n    \"drug_class\": \"Miscellaneous analgesics\",\\n    \"pregnancy_lactation\": \"can be used during pregnancy; can be taken if breastfeeding\",\\n    \"dosage_forms\": [\\n        \"tablets\",\\n        \"capsules\",\\n        \"oral suspension\",\\n        \"suppositories\",\\n        \"effervescent tablets\",\\n        \"solution for infusion\",\\n        \"orally disintegrating tablets\",\\n        \"powder\"\\n    ],\\n    \"special_populations_children\": \"check with your doctor or pharmacist about the correct dose based on child\\'s age and weight.\",\\n    \"special_populations_elderly\": \"missing\",\\n    \"special_populations_renal_impairment\": \"missing\",\\n    \"special_populations_hepatic_impairment\": \"use caution in patients with liver problems, may need to avoid or limit use\",\\n    \"overdose_information\": \"get medical help immediately; symptoms may include paleness, nausea, sweating, vomiting, loss of appetite, and abdominal pain; quick medical attention is critical even if they seem well.\",\\n    \"reviews_rating\": \"7.0 / 10\"\\n}\\n\\n\\n\\nPrices of medicines | Cost of medicines | How much these comes at ? Where can i get these ? Links on the internet ? Where to buy ? \\n\\n\\n[{\\'name\\': \\'BRUFEN 400MG TABLET\\', \\'price\\': \\'16.99\\', \\'quantity\\': \\'15S\\', \\'url\\': \\'https://www.practo.com/medicine-info/ibuprofen-395-api\\'}, {\\'name\\': \\'ibuprofen\\', \\'price\\': \\'NA\\', \\'quantity\\': \\'NA\\', \\'url\\': \\'https://www.netmeds.com/prescriptions/337279?srsltid=AfmBOorjMq-eX4UVqchmL_Md8V6dSJYVITX11avgnk6gXsWiuMwTc4zE\\'}, \\n {\\'name\\': \\'Ibuprofen\\', \\'price\\': \\'4.00\\', \\'quantity\\': \\'10 Tablets\\', \\'url\\': \\'https://pharmeasy.in/online-medicine-order/ibuprofen-alk-250mg-strip-of-250-tablets-195197\\'}, {\\'name\\': \\'Ibuprofen\\', \\'price\\': \\'66.88\\', \\'quantity\\': \\'250 Tablets\\', \\'url\\': \\'https://www.apollopharmacy.in/medicine/ibuprofen-400-mg-tablet-10-s?srsltid=AfmBOoqLbAtMxW7PUsK-rUcomvPTyf4NR-mK5YwVCU1zIY4IeCDBh7-8\\'},\\n  {\\'name\\': \\'Ibuprofen 400 mg Tablet\\', \\'price\\': \\'NA\\', \\'quantity\\': \\'10s\\', \\'url\\': \\'https://www.medkart.in/order-medicine/brufen-400mg-tablet-15s\\'}]\\n\\n\\n[{\\'name\\': \\'PARACETAMOL 500MG TABLET\\', \\'price\\': \\'17.94\\', \\'quantity\\': \\'20S\\', \\'url\\': \\'https://www.practo.com/medicine-info/paracetamol-219-api\\'}, {\\'name\\': \\'paracetamol\\', \\'price\\': \\'NA\\', \\'quantity\\': \\'NA\\', \\'url\\': \\'https://www.netmeds.com/prescriptions/paracetamol-tablet-10-s\\'}, {\\'name\\': \\'paracetamol\\', \\'price\\': \\'NA\\', \\n\\'quantity\\': \\'NA\\', \\'url\\': \\'https://pharmeasy.in/online-medicine-order/paracetamol-cipla-500-mg-tablet-10-198467\\'}, {\\'name\\': \\'PARACETAMOL Tablet\\', \\'price\\': \\'10.08\\', \\'quantity\\': \\'10 Tablets\\', \\'url\\': \\'https://www.apollopharmacy.in/salt/Paracetamol?srsltid=AfmBOopA2iEFVNA2JqQ8h1keENoif1l8Ok6H9YPoo3omyhDA0SyPkgvU\\'}, \\n{\\'name\\': \\'Paracetamol 500mg Strip Of 10 Tablets Cipla\\', \\'price\\': \\'7.62\\', \\'quantity\\': \\'10 Tablets\\', \\'url\\': \\'https://www.medkart.in/order-medicine/paracetamol-500mg-tablet-20s\\'}]'"
      ]
     },
     "execution_count": 62,
     "metadata": {},
     "output_type": "execute_result"
    }
   ],
   "source": [
    "relevant_doc"
   ]
  },
  {
   "cell_type": "code",
   "execution_count": 52,
   "metadata": {},
   "outputs": [
    {
     "name": "stderr",
     "output_type": "stream",
     "text": [
      "C:\\Users\\91790\\AppData\\Local\\Temp\\ipykernel_18468\\291976851.py:5: LangChainDeprecationWarning: The class `ChatOpenAI` was deprecated in LangChain 0.0.10 and will be removed in 1.0. An updated version of the class exists in the :class:`~langchain-openai package and should be used instead. To use it run `pip install -U :class:`~langchain-openai` and import as `from :class:`~langchain_openai import ChatOpenAI``.\n",
      "  llm = ChatOpenAI(\n"
     ]
    }
   ],
   "source": [
    "from langchain.chat_models import ChatOpenAI\n",
    "from langchain.callbacks.streaming_stdout import StreamingStdOutCallbackHandler\n",
    "import os \n",
    "\n",
    "llm = ChatOpenAI(\n",
    "    streaming=True,\n",
    "    callbacks=[StreamingStdOutCallbackHandler()],\n",
    "    openai_api_key=os.getenv(\"OPENAI_API_KEY\")\n",
    ")\n"
   ]
  },
  {
   "cell_type": "code",
   "execution_count": 53,
   "metadata": {},
   "outputs": [],
   "source": [
    "from langchain.chains import RetrievalQA\n",
    "\n",
    "qa_chain = RetrievalQA.from_chain_type(\n",
    "    llm=llm,\n",
    "    chain_type=\"stuff\",\n",
    "    retriever=retriever\n",
    ")\n"
   ]
  },
  {
   "cell_type": "code",
   "execution_count": 55,
   "metadata": {},
   "outputs": [
    {
     "name": "stdout",
     "output_type": "stream",
     "text": [
      "Common side effects of Ibuprofen include:\n",
      "- Nausea\n",
      "- Vomiting\n",
      "- Gas\n",
      "- Bleeding\n",
      "- Dizziness\n",
      "- Headache\n",
      "\n",
      "Severe side effects of Ibuprofen can include:\n",
      "- Stomach or intestinal bleeding\n",
      "- Heart attack\n",
      "- Stroke\n",
      "- Liver problems\n",
      "- Kidney problems\n",
      "- Allergic reaction\n",
      "- Severe skin reaction\n",
      "- Vision changes\n",
      "- Anemia\n",
      "\n",
      "Immediate attention side effects of Ibuprofen include:\n",
      "- Signs of an allergic reaction to ibuprofen\n",
      "- Signs of a heart attack or stroke\n",
      "- Signs of stomach bleeding\n",
      "- Liver problems\n",
      "- Kidney problems"
     ]
    }
   ],
   "source": [
    "response = qa_chain.run(\"Show me side effects of ibuprofen\")"
   ]
  },
  {
   "cell_type": "code",
   "execution_count": 2,
   "metadata": {},
   "outputs": [
    {
     "data": {
      "text/plain": [
       "True"
      ]
     },
     "execution_count": 2,
     "metadata": {},
     "output_type": "execute_result"
    }
   ],
   "source": [
    "from openai import OpenAI\n",
    "import os \n",
    "from dotenv import load_dotenv\n",
    "load_dotenv()"
   ]
  },
  {
   "cell_type": "code",
   "execution_count": 3,
   "metadata": {},
   "outputs": [],
   "source": [
    "client = OpenAI(api_key = os.getenv(\"OPENAI_API_KEY\"))"
   ]
  },
  {
   "cell_type": "code",
   "execution_count": 4,
   "metadata": {},
   "outputs": [],
   "source": [
    "from pydantic import BaseModel"
   ]
  },
  {
   "cell_type": "code",
   "execution_count": 5,
   "metadata": {},
   "outputs": [],
   "source": [
    "class Query(BaseModel): \n",
    "    is_followup: bool \n",
    "    requires_new_context: bool"
   ]
  },
  {
   "cell_type": "code",
   "execution_count": 6,
   "metadata": {},
   "outputs": [],
   "source": [
    "prompt = f\"\"\"\n",
    "    Analyze this query in the context of the current conversation.\n",
    "    \n",
    "    Current topic: is everything ok with my report ? \n",
    "    \n",
    "    Latest conversation:\n",
    "    Yes, the report is fine.\n",
    "\n",
    "    New query: What are some alternative medicines for paracetamol?\n",
    "    \n",
    "    Determine:\n",
    "    1. Is this a follow-up to the previous conversation?\n",
    "    2. Does it require fetching new documentation or can it be answered with existing context?\n",
    "\"\"\"\n",
    "classification = client.beta.chat.completions.parse(\n",
    "    model = \"gpt-4o-mini\",\n",
    "    messages = [\n",
    "        {\n",
    "            \"role\": \"user\", \n",
    "            \"content\": prompt\n",
    "        }\n",
    "    ],\n",
    "    response_format = Query\n",
    ") \n"
   ]
  },
  {
   "cell_type": "code",
   "execution_count": 19,
   "metadata": {},
   "outputs": [
    {
     "data": {
      "text/plain": [
       "False"
      ]
     },
     "execution_count": 19,
     "metadata": {},
     "output_type": "execute_result"
    }
   ],
   "source": [
    "classification.choices[0].message.content\n",
    "\n",
    "import json \n",
    "json.loads(classification.choices[0].message.content).get(\"is_followup\")"
   ]
  },
  {
   "cell_type": "code",
   "execution_count": null,
   "metadata": {},
   "outputs": [],
   "source": []
  }
 ],
 "metadata": {
  "kernelspec": {
   "display_name": "base",
   "language": "python",
   "name": "python3"
  },
  "language_info": {
   "codemirror_mode": {
    "name": "ipython",
    "version": 3
   },
   "file_extension": ".py",
   "mimetype": "text/x-python",
   "name": "python",
   "nbconvert_exporter": "python",
   "pygments_lexer": "ipython3",
   "version": "3.11.5"
  }
 },
 "nbformat": 4,
 "nbformat_minor": 2
}
